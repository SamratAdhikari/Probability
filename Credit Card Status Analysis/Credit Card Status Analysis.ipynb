{
 "cells": [
  {
   "cell_type": "markdown",
   "id": "d4d1134e",
   "metadata": {},
   "source": [
    "# <center>CREDIT CARD STATUS</center>"
   ]
  },
  {
   "cell_type": "markdown",
   "id": "e2065f8c",
   "metadata": {},
   "source": [
    "### Modules"
   ]
  },
  {
   "cell_type": "code",
   "execution_count": 5,
   "id": "f95fe100",
   "metadata": {},
   "outputs": [],
   "source": [
    "import numpy as np\n",
    "import pandas as pd\n",
    "import matplotlib.pyplot as plt"
   ]
  },
  {
   "cell_type": "markdown",
   "id": "f524b729",
   "metadata": {},
   "source": [
    "### Initializing the dataframe"
   ]
  },
  {
   "cell_type": "code",
   "execution_count": 41,
   "id": "883e9241",
   "metadata": {},
   "outputs": [
    {
     "data": {
      "text/html": [
       "<div>\n",
       "<style scoped>\n",
       "    .dataframe tbody tr th:only-of-type {\n",
       "        vertical-align: middle;\n",
       "    }\n",
       "\n",
       "    .dataframe tbody tr th {\n",
       "        vertical-align: top;\n",
       "    }\n",
       "\n",
       "    .dataframe thead th {\n",
       "        text-align: right;\n",
       "    }\n",
       "</style>\n",
       "<table border=\"1\" class=\"dataframe\">\n",
       "  <thead>\n",
       "    <tr style=\"text-align: right;\">\n",
       "      <th></th>\n",
       "      <th>gender</th>\n",
       "      <th>age</th>\n",
       "      <th>job</th>\n",
       "      <th>marital</th>\n",
       "      <th>education</th>\n",
       "      <th>default</th>\n",
       "      <th>housing</th>\n",
       "      <th>loan</th>\n",
       "      <th>contact</th>\n",
       "      <th>CreditCard</th>\n",
       "    </tr>\n",
       "  </thead>\n",
       "  <tbody>\n",
       "    <tr>\n",
       "      <th>0</th>\n",
       "      <td>female</td>\n",
       "      <td>56</td>\n",
       "      <td>housemaid</td>\n",
       "      <td>married</td>\n",
       "      <td>basic.4y</td>\n",
       "      <td>no</td>\n",
       "      <td>no</td>\n",
       "      <td>no</td>\n",
       "      <td>telephone</td>\n",
       "      <td>no</td>\n",
       "    </tr>\n",
       "    <tr>\n",
       "      <th>1</th>\n",
       "      <td>male</td>\n",
       "      <td>57</td>\n",
       "      <td>services</td>\n",
       "      <td>married</td>\n",
       "      <td>high.school</td>\n",
       "      <td>yes</td>\n",
       "      <td>no</td>\n",
       "      <td>no</td>\n",
       "      <td>telephone</td>\n",
       "      <td>no</td>\n",
       "    </tr>\n",
       "    <tr>\n",
       "      <th>2</th>\n",
       "      <td>female</td>\n",
       "      <td>37</td>\n",
       "      <td>services</td>\n",
       "      <td>married</td>\n",
       "      <td>high.school</td>\n",
       "      <td>no</td>\n",
       "      <td>yes</td>\n",
       "      <td>no</td>\n",
       "      <td>telephone</td>\n",
       "      <td>no</td>\n",
       "    </tr>\n",
       "    <tr>\n",
       "      <th>3</th>\n",
       "      <td>female</td>\n",
       "      <td>40</td>\n",
       "      <td>admin.</td>\n",
       "      <td>married</td>\n",
       "      <td>basic.6y</td>\n",
       "      <td>no</td>\n",
       "      <td>no</td>\n",
       "      <td>no</td>\n",
       "      <td>telephone</td>\n",
       "      <td>no</td>\n",
       "    </tr>\n",
       "    <tr>\n",
       "      <th>4</th>\n",
       "      <td>female</td>\n",
       "      <td>56</td>\n",
       "      <td>services</td>\n",
       "      <td>married</td>\n",
       "      <td>high.school</td>\n",
       "      <td>no</td>\n",
       "      <td>no</td>\n",
       "      <td>yes</td>\n",
       "      <td>telephone</td>\n",
       "      <td>no</td>\n",
       "    </tr>\n",
       "  </tbody>\n",
       "</table>\n",
       "</div>"
      ],
      "text/plain": [
       "   gender  age        job  marital    education default housing loan   \n",
       "0  female   56  housemaid  married     basic.4y      no      no   no  \\\n",
       "1    male   57   services  married  high.school     yes      no   no   \n",
       "2  female   37   services  married  high.school      no     yes   no   \n",
       "3  female   40     admin.  married     basic.6y      no      no   no   \n",
       "4  female   56   services  married  high.school      no      no  yes   \n",
       "\n",
       "     contact CreditCard  \n",
       "0  telephone         no  \n",
       "1  telephone         no  \n",
       "2  telephone         no  \n",
       "3  telephone         no  \n",
       "4  telephone         no  "
      ]
     },
     "execution_count": 41,
     "metadata": {},
     "output_type": "execute_result"
    }
   ],
   "source": [
    "df = pd.read_csv(\"credit_card.csv\")\n",
    "df.head()"
   ]
  },
  {
   "cell_type": "code",
   "execution_count": 8,
   "id": "93c2cb35",
   "metadata": {},
   "outputs": [
    {
     "data": {
      "text/plain": [
       "gender        0\n",
       "age           0\n",
       "job           0\n",
       "marital       0\n",
       "education     0\n",
       "default       0\n",
       "housing       0\n",
       "loan          0\n",
       "contact       0\n",
       "CreditCard    0\n",
       "dtype: int64"
      ]
     },
     "execution_count": 8,
     "metadata": {},
     "output_type": "execute_result"
    }
   ],
   "source": [
    "df.isnull().sum()"
   ]
  },
  {
   "cell_type": "code",
   "execution_count": 29,
   "id": "f049cf98",
   "metadata": {},
   "outputs": [
    {
     "data": {
      "text/html": [
       "<div>\n",
       "<style scoped>\n",
       "    .dataframe tbody tr th:only-of-type {\n",
       "        vertical-align: middle;\n",
       "    }\n",
       "\n",
       "    .dataframe tbody tr th {\n",
       "        vertical-align: top;\n",
       "    }\n",
       "\n",
       "    .dataframe thead th {\n",
       "        text-align: right;\n",
       "    }\n",
       "</style>\n",
       "<table border=\"1\" class=\"dataframe\">\n",
       "  <thead>\n",
       "    <tr style=\"text-align: right;\">\n",
       "      <th></th>\n",
       "      <th>gender</th>\n",
       "      <th>job</th>\n",
       "      <th>marital</th>\n",
       "      <th>education</th>\n",
       "      <th>default</th>\n",
       "      <th>housing</th>\n",
       "      <th>loan</th>\n",
       "      <th>contact</th>\n",
       "      <th>CreditCard</th>\n",
       "    </tr>\n",
       "  </thead>\n",
       "  <tbody>\n",
       "    <tr>\n",
       "      <th>count</th>\n",
       "      <td>41188</td>\n",
       "      <td>41188</td>\n",
       "      <td>41188</td>\n",
       "      <td>41188</td>\n",
       "      <td>41188</td>\n",
       "      <td>41188</td>\n",
       "      <td>41188</td>\n",
       "      <td>41188</td>\n",
       "      <td>41188</td>\n",
       "    </tr>\n",
       "    <tr>\n",
       "      <th>unique</th>\n",
       "      <td>2</td>\n",
       "      <td>12</td>\n",
       "      <td>4</td>\n",
       "      <td>8</td>\n",
       "      <td>2</td>\n",
       "      <td>2</td>\n",
       "      <td>2</td>\n",
       "      <td>2</td>\n",
       "      <td>2</td>\n",
       "    </tr>\n",
       "    <tr>\n",
       "      <th>top</th>\n",
       "      <td>female</td>\n",
       "      <td>admin.</td>\n",
       "      <td>married</td>\n",
       "      <td>university.degree</td>\n",
       "      <td>no</td>\n",
       "      <td>yes</td>\n",
       "      <td>no</td>\n",
       "      <td>cellular</td>\n",
       "      <td>no</td>\n",
       "    </tr>\n",
       "    <tr>\n",
       "      <th>freq</th>\n",
       "      <td>20798</td>\n",
       "      <td>10422</td>\n",
       "      <td>24928</td>\n",
       "      <td>12168</td>\n",
       "      <td>32588</td>\n",
       "      <td>22566</td>\n",
       "      <td>33950</td>\n",
       "      <td>26144</td>\n",
       "      <td>36548</td>\n",
       "    </tr>\n",
       "  </tbody>\n",
       "</table>\n",
       "</div>"
      ],
      "text/plain": [
       "        gender     job  marital          education default housing   loan   \n",
       "count    41188   41188    41188              41188   41188   41188  41188  \\\n",
       "unique       2      12        4                  8       2       2      2   \n",
       "top     female  admin.  married  university.degree      no     yes     no   \n",
       "freq     20798   10422    24928              12168   32588   22566  33950   \n",
       "\n",
       "         contact CreditCard  \n",
       "count      41188      41188  \n",
       "unique         2          2  \n",
       "top     cellular         no  \n",
       "freq       26144      36548  "
      ]
     },
     "execution_count": 29,
     "metadata": {},
     "output_type": "execute_result"
    }
   ],
   "source": [
    "df.describe(include='O') # categorical description"
   ]
  },
  {
   "cell_type": "code",
   "execution_count": 25,
   "id": "95bb3875",
   "metadata": {
    "scrolled": true
   },
   "outputs": [
    {
     "data": {
      "text/plain": [
       "(41188, 10)"
      ]
     },
     "execution_count": 25,
     "metadata": {},
     "output_type": "execute_result"
    }
   ],
   "source": [
    "df.shape"
   ]
  },
  {
   "cell_type": "markdown",
   "id": "38682b39",
   "metadata": {},
   "source": [
    " "
   ]
  },
  {
   "cell_type": "code",
   "execution_count": 32,
   "id": "b894d5d2",
   "metadata": {},
   "outputs": [
    {
     "name": "stdout",
     "output_type": "stream",
     "text": [
      "Total number of customers is: 41188\n"
     ]
    }
   ],
   "source": [
    "# Total number of Customers;\n",
    "S = df.shape[0]\n",
    "print(\"Total number of customers is:\", S)"
   ]
  },
  {
   "cell_type": "markdown",
   "id": "6bed388a",
   "metadata": {},
   "source": [
    "#### Que #1: What is the probability that the customer has no Credit Card?"
   ]
  },
  {
   "cell_type": "code",
   "execution_count": 47,
   "id": "bceb416c",
   "metadata": {},
   "outputs": [
    {
     "data": {
      "text/plain": [
       "CreditCard\n",
       "no     36548\n",
       "yes     4640\n",
       "Name: count, dtype: int64"
      ]
     },
     "execution_count": 47,
     "metadata": {},
     "output_type": "execute_result"
    }
   ],
   "source": [
    "df['CreditCard'].value_counts()"
   ]
  },
  {
   "cell_type": "code",
   "execution_count": 67,
   "id": "368e0eb5",
   "metadata": {},
   "outputs": [
    {
     "name": "stdout",
     "output_type": "stream",
     "text": [
      "The probaility of customers not having a Credit Card is 0.887\n"
     ]
    }
   ],
   "source": [
    "E = len(df[df['CreditCard'] == 'no'])\n",
    "P = round(E/S, 3)\n",
    "\n",
    "print(\"The probaility of customers not having a Credit Card is\", P)"
   ]
  },
  {
   "cell_type": "markdown",
   "id": "a5e4e2bf",
   "metadata": {},
   "source": [
    "#### Que #2: What is the probability that the customer is illiterate?"
   ]
  },
  {
   "cell_type": "code",
   "execution_count": 43,
   "id": "8c8e8550",
   "metadata": {},
   "outputs": [
    {
     "data": {
      "text/plain": [
       "education\n",
       "university.degree      12168\n",
       "high.school             9515\n",
       "basic.9y                6045\n",
       "professional.course     5243\n",
       "basic.4y                4176\n",
       "basic.6y                2292\n",
       "unknown                 1731\n",
       "illiterate                18\n",
       "Name: count, dtype: int64"
      ]
     },
     "execution_count": 43,
     "metadata": {},
     "output_type": "execute_result"
    }
   ],
   "source": [
    "df['education'].value_counts()"
   ]
  },
  {
   "cell_type": "code",
   "execution_count": 68,
   "id": "764ca0e0",
   "metadata": {},
   "outputs": [
    {
     "name": "stdout",
     "output_type": "stream",
     "text": [
      "The probaility of customers being Illiterate is 0.00044\n"
     ]
    }
   ],
   "source": [
    "E = len(df[df['education'] == 'illiterate'])\n",
    "P = round(E/S, 5)\n",
    "\n",
    "print(\"The probaility of customers being Illiterate is\", P)"
   ]
  },
  {
   "cell_type": "markdown",
   "id": "bdf5c4e0",
   "metadata": {},
   "source": [
    "#### Que #3: What is the probability that the customer has a Telephone?"
   ]
  },
  {
   "cell_type": "code",
   "execution_count": 52,
   "id": "fa49fcf0",
   "metadata": {},
   "outputs": [
    {
     "data": {
      "text/plain": [
       "contact\n",
       "cellular     26144\n",
       "telephone    15044\n",
       "Name: count, dtype: int64"
      ]
     },
     "execution_count": 52,
     "metadata": {},
     "output_type": "execute_result"
    }
   ],
   "source": [
    "df['contact'].value_counts()"
   ]
  },
  {
   "cell_type": "code",
   "execution_count": 69,
   "id": "0626712c",
   "metadata": {},
   "outputs": [
    {
     "name": "stdout",
     "output_type": "stream",
     "text": [
      "The probability of customers having a Telephone is 0.365\n"
     ]
    }
   ],
   "source": [
    "E = len(df[df['contact'] == 'telephone'])\n",
    "P = round(E/S, 3)\n",
    "\n",
    "print(\"The probability of customers having a Telephone is\", P)"
   ]
  },
  {
   "cell_type": "markdown",
   "id": "f64e0fc7",
   "metadata": {},
   "source": [
    "#### Que #4: What is the probability that the customer is Single and has a Credit Card?"
   ]
  },
  {
   "cell_type": "code",
   "execution_count": 57,
   "id": "4ca7edf3",
   "metadata": {},
   "outputs": [
    {
     "data": {
      "text/html": [
       "<div>\n",
       "<style scoped>\n",
       "    .dataframe tbody tr th:only-of-type {\n",
       "        vertical-align: middle;\n",
       "    }\n",
       "\n",
       "    .dataframe tbody tr th {\n",
       "        vertical-align: top;\n",
       "    }\n",
       "\n",
       "    .dataframe thead th {\n",
       "        text-align: right;\n",
       "    }\n",
       "</style>\n",
       "<table border=\"1\" class=\"dataframe\">\n",
       "  <thead>\n",
       "    <tr style=\"text-align: right;\">\n",
       "      <th>CreditCard</th>\n",
       "      <th>no</th>\n",
       "      <th>yes</th>\n",
       "      <th>All</th>\n",
       "    </tr>\n",
       "    <tr>\n",
       "      <th>marital</th>\n",
       "      <th></th>\n",
       "      <th></th>\n",
       "      <th></th>\n",
       "    </tr>\n",
       "  </thead>\n",
       "  <tbody>\n",
       "    <tr>\n",
       "      <th>divorced</th>\n",
       "      <td>4136</td>\n",
       "      <td>476</td>\n",
       "      <td>4612</td>\n",
       "    </tr>\n",
       "    <tr>\n",
       "      <th>married</th>\n",
       "      <td>22396</td>\n",
       "      <td>2532</td>\n",
       "      <td>24928</td>\n",
       "    </tr>\n",
       "    <tr>\n",
       "      <th>single</th>\n",
       "      <td>9948</td>\n",
       "      <td>1620</td>\n",
       "      <td>11568</td>\n",
       "    </tr>\n",
       "    <tr>\n",
       "      <th>unknown</th>\n",
       "      <td>68</td>\n",
       "      <td>12</td>\n",
       "      <td>80</td>\n",
       "    </tr>\n",
       "    <tr>\n",
       "      <th>All</th>\n",
       "      <td>36548</td>\n",
       "      <td>4640</td>\n",
       "      <td>41188</td>\n",
       "    </tr>\n",
       "  </tbody>\n",
       "</table>\n",
       "</div>"
      ],
      "text/plain": [
       "CreditCard     no   yes    All\n",
       "marital                       \n",
       "divorced     4136   476   4612\n",
       "married     22396  2532  24928\n",
       "single       9948  1620  11568\n",
       "unknown        68    12     80\n",
       "All         36548  4640  41188"
      ]
     },
     "execution_count": 57,
     "metadata": {},
     "output_type": "execute_result"
    }
   ],
   "source": [
    "crosstab = pd.crosstab(index=df['marital'], columns=df['CreditCard'], margins=True)\n",
    "crosstab"
   ]
  },
  {
   "cell_type": "code",
   "execution_count": 71,
   "id": "2c41ed98",
   "metadata": {},
   "outputs": [
    {
     "name": "stdout",
     "output_type": "stream",
     "text": [
      "The probability of customers being Single and having a Credit Card is 0.039\n"
     ]
    }
   ],
   "source": [
    "E = crosstab.loc['single', 'yes']\n",
    "P = round(E/S, 3)\n",
    "\n",
    "print(\"The probability of customers being Single and having a Credit Card is\", P)"
   ]
  },
  {
   "cell_type": "markdown",
   "id": "c628d18f",
   "metadata": {},
   "source": [
    "#### Que #5: What is the probability that the customer is Male and has at most 6 years of Education?"
   ]
  },
  {
   "cell_type": "code",
   "execution_count": 75,
   "id": "862e7f4b",
   "metadata": {},
   "outputs": [
    {
     "data": {
      "text/html": [
       "<div>\n",
       "<style scoped>\n",
       "    .dataframe tbody tr th:only-of-type {\n",
       "        vertical-align: middle;\n",
       "    }\n",
       "\n",
       "    .dataframe tbody tr th {\n",
       "        vertical-align: top;\n",
       "    }\n",
       "\n",
       "    .dataframe thead th {\n",
       "        text-align: right;\n",
       "    }\n",
       "</style>\n",
       "<table border=\"1\" class=\"dataframe\">\n",
       "  <thead>\n",
       "    <tr style=\"text-align: right;\">\n",
       "      <th>education</th>\n",
       "      <th>basic.4y</th>\n",
       "      <th>basic.6y</th>\n",
       "      <th>basic.9y</th>\n",
       "      <th>high.school</th>\n",
       "      <th>illiterate</th>\n",
       "      <th>professional.course</th>\n",
       "      <th>university.degree</th>\n",
       "      <th>unknown</th>\n",
       "      <th>All</th>\n",
       "    </tr>\n",
       "    <tr>\n",
       "      <th>gender</th>\n",
       "      <th></th>\n",
       "      <th></th>\n",
       "      <th></th>\n",
       "      <th></th>\n",
       "      <th></th>\n",
       "      <th></th>\n",
       "      <th></th>\n",
       "      <th></th>\n",
       "      <th></th>\n",
       "    </tr>\n",
       "  </thead>\n",
       "  <tbody>\n",
       "    <tr>\n",
       "      <th>female</th>\n",
       "      <td>2104</td>\n",
       "      <td>1169</td>\n",
       "      <td>3092</td>\n",
       "      <td>4735</td>\n",
       "      <td>7</td>\n",
       "      <td>2647</td>\n",
       "      <td>6142</td>\n",
       "      <td>902</td>\n",
       "      <td>20798</td>\n",
       "    </tr>\n",
       "    <tr>\n",
       "      <th>male</th>\n",
       "      <td>2072</td>\n",
       "      <td>1123</td>\n",
       "      <td>2953</td>\n",
       "      <td>4780</td>\n",
       "      <td>11</td>\n",
       "      <td>2596</td>\n",
       "      <td>6026</td>\n",
       "      <td>829</td>\n",
       "      <td>20390</td>\n",
       "    </tr>\n",
       "    <tr>\n",
       "      <th>All</th>\n",
       "      <td>4176</td>\n",
       "      <td>2292</td>\n",
       "      <td>6045</td>\n",
       "      <td>9515</td>\n",
       "      <td>18</td>\n",
       "      <td>5243</td>\n",
       "      <td>12168</td>\n",
       "      <td>1731</td>\n",
       "      <td>41188</td>\n",
       "    </tr>\n",
       "  </tbody>\n",
       "</table>\n",
       "</div>"
      ],
      "text/plain": [
       "education  basic.4y  basic.6y  basic.9y  high.school  illiterate   \n",
       "gender                                                             \n",
       "female         2104      1169      3092         4735           7  \\\n",
       "male           2072      1123      2953         4780          11   \n",
       "All            4176      2292      6045         9515          18   \n",
       "\n",
       "education  professional.course  university.degree  unknown    All  \n",
       "gender                                                             \n",
       "female                    2647               6142      902  20798  \n",
       "male                      2596               6026      829  20390  \n",
       "All                       5243              12168     1731  41188  "
      ]
     },
     "execution_count": 75,
     "metadata": {},
     "output_type": "execute_result"
    }
   ],
   "source": [
    "crosstab = pd.crosstab(df['gender'], df['education'], margins=True)\n",
    "crosstab"
   ]
  },
  {
   "cell_type": "code",
   "execution_count": 74,
   "id": "f1255108",
   "metadata": {},
   "outputs": [
    {
     "name": "stdout",
     "output_type": "stream",
     "text": [
      "The probability of customers being Male and having at most 6 years of Education is 0.078\n"
     ]
    }
   ],
   "source": [
    "E = crosstab.loc['male', 'illiterate'] + crosstab.loc['male', 'basic.4y'] + crosstab.loc['male', 'basic.6y']\n",
    "P = round(E/S, 3)\n",
    "\n",
    "print(\"The probability of customers being Male and having at most 6 years of Education is\", P)"
   ]
  },
  {
   "cell_type": "markdown",
   "id": "9070b09d",
   "metadata": {},
   "source": [
    "#### Que #6: What is the probability that the customer is Retired and is Divorced?"
   ]
  },
  {
   "cell_type": "code",
   "execution_count": 77,
   "id": "dfad56cf",
   "metadata": {},
   "outputs": [
    {
     "data": {
      "text/html": [
       "<div>\n",
       "<style scoped>\n",
       "    .dataframe tbody tr th:only-of-type {\n",
       "        vertical-align: middle;\n",
       "    }\n",
       "\n",
       "    .dataframe tbody tr th {\n",
       "        vertical-align: top;\n",
       "    }\n",
       "\n",
       "    .dataframe thead th {\n",
       "        text-align: right;\n",
       "    }\n",
       "</style>\n",
       "<table border=\"1\" class=\"dataframe\">\n",
       "  <thead>\n",
       "    <tr style=\"text-align: right;\">\n",
       "      <th>job</th>\n",
       "      <th>admin.</th>\n",
       "      <th>blue-collar</th>\n",
       "      <th>entrepreneur</th>\n",
       "      <th>housemaid</th>\n",
       "      <th>management</th>\n",
       "      <th>retired</th>\n",
       "      <th>self-employed</th>\n",
       "      <th>services</th>\n",
       "      <th>student</th>\n",
       "      <th>technician</th>\n",
       "      <th>unemployed</th>\n",
       "      <th>unknown</th>\n",
       "      <th>All</th>\n",
       "    </tr>\n",
       "    <tr>\n",
       "      <th>marital</th>\n",
       "      <th></th>\n",
       "      <th></th>\n",
       "      <th></th>\n",
       "      <th></th>\n",
       "      <th></th>\n",
       "      <th></th>\n",
       "      <th></th>\n",
       "      <th></th>\n",
       "      <th></th>\n",
       "      <th></th>\n",
       "      <th></th>\n",
       "      <th></th>\n",
       "      <th></th>\n",
       "    </tr>\n",
       "  </thead>\n",
       "  <tbody>\n",
       "    <tr>\n",
       "      <th>divorced</th>\n",
       "      <td>1280</td>\n",
       "      <td>728</td>\n",
       "      <td>179</td>\n",
       "      <td>161</td>\n",
       "      <td>331</td>\n",
       "      <td>348</td>\n",
       "      <td>133</td>\n",
       "      <td>532</td>\n",
       "      <td>9</td>\n",
       "      <td>774</td>\n",
       "      <td>124</td>\n",
       "      <td>13</td>\n",
       "      <td>4612</td>\n",
       "    </tr>\n",
       "    <tr>\n",
       "      <th>married</th>\n",
       "      <td>5253</td>\n",
       "      <td>6687</td>\n",
       "      <td>1071</td>\n",
       "      <td>777</td>\n",
       "      <td>2089</td>\n",
       "      <td>1274</td>\n",
       "      <td>904</td>\n",
       "      <td>2294</td>\n",
       "      <td>41</td>\n",
       "      <td>3670</td>\n",
       "      <td>634</td>\n",
       "      <td>234</td>\n",
       "      <td>24928</td>\n",
       "    </tr>\n",
       "    <tr>\n",
       "      <th>single</th>\n",
       "      <td>3875</td>\n",
       "      <td>1825</td>\n",
       "      <td>203</td>\n",
       "      <td>119</td>\n",
       "      <td>501</td>\n",
       "      <td>93</td>\n",
       "      <td>379</td>\n",
       "      <td>1137</td>\n",
       "      <td>824</td>\n",
       "      <td>2287</td>\n",
       "      <td>251</td>\n",
       "      <td>74</td>\n",
       "      <td>11568</td>\n",
       "    </tr>\n",
       "    <tr>\n",
       "      <th>unknown</th>\n",
       "      <td>14</td>\n",
       "      <td>14</td>\n",
       "      <td>3</td>\n",
       "      <td>3</td>\n",
       "      <td>3</td>\n",
       "      <td>5</td>\n",
       "      <td>5</td>\n",
       "      <td>6</td>\n",
       "      <td>1</td>\n",
       "      <td>12</td>\n",
       "      <td>5</td>\n",
       "      <td>9</td>\n",
       "      <td>80</td>\n",
       "    </tr>\n",
       "    <tr>\n",
       "      <th>All</th>\n",
       "      <td>10422</td>\n",
       "      <td>9254</td>\n",
       "      <td>1456</td>\n",
       "      <td>1060</td>\n",
       "      <td>2924</td>\n",
       "      <td>1720</td>\n",
       "      <td>1421</td>\n",
       "      <td>3969</td>\n",
       "      <td>875</td>\n",
       "      <td>6743</td>\n",
       "      <td>1014</td>\n",
       "      <td>330</td>\n",
       "      <td>41188</td>\n",
       "    </tr>\n",
       "  </tbody>\n",
       "</table>\n",
       "</div>"
      ],
      "text/plain": [
       "job       admin.  blue-collar  entrepreneur  housemaid  management  retired   \n",
       "marital                                                                       \n",
       "divorced    1280          728           179        161         331      348  \\\n",
       "married     5253         6687          1071        777        2089     1274   \n",
       "single      3875         1825           203        119         501       93   \n",
       "unknown       14           14             3          3           3        5   \n",
       "All        10422         9254          1456       1060        2924     1720   \n",
       "\n",
       "job       self-employed  services  student  technician  unemployed  unknown   \n",
       "marital                                                                       \n",
       "divorced            133       532        9         774         124       13  \\\n",
       "married             904      2294       41        3670         634      234   \n",
       "single              379      1137      824        2287         251       74   \n",
       "unknown               5         6        1          12           5        9   \n",
       "All                1421      3969      875        6743        1014      330   \n",
       "\n",
       "job         All  \n",
       "marital          \n",
       "divorced   4612  \n",
       "married   24928  \n",
       "single    11568  \n",
       "unknown      80  \n",
       "All       41188  "
      ]
     },
     "execution_count": 77,
     "metadata": {},
     "output_type": "execute_result"
    }
   ],
   "source": [
    "crosstab = pd.crosstab(df['marital'], df['job'], margins=True)\n",
    "crosstab"
   ]
  },
  {
   "cell_type": "code",
   "execution_count": 80,
   "id": "28ee8ea8",
   "metadata": {},
   "outputs": [
    {
     "name": "stdout",
     "output_type": "stream",
     "text": [
      "The probability of customers being Retired and Divorced is 0.008\n"
     ]
    }
   ],
   "source": [
    "E = crosstab.loc['divorced', 'retired']\n",
    "P = round(E/S, 3)\n",
    "\n",
    "print(\"The probability of customers being Retired and Divorced is\", P)"
   ]
  },
  {
   "cell_type": "markdown",
   "id": "a9df6692",
   "metadata": {},
   "source": [
    "#### Que #7: Given the customer has a Credit Card, find the probability that he is Married?"
   ]
  },
  {
   "cell_type": "code",
   "execution_count": 81,
   "id": "f0ea9e90",
   "metadata": {},
   "outputs": [
    {
     "data": {
      "text/html": [
       "<div>\n",
       "<style scoped>\n",
       "    .dataframe tbody tr th:only-of-type {\n",
       "        vertical-align: middle;\n",
       "    }\n",
       "\n",
       "    .dataframe tbody tr th {\n",
       "        vertical-align: top;\n",
       "    }\n",
       "\n",
       "    .dataframe thead th {\n",
       "        text-align: right;\n",
       "    }\n",
       "</style>\n",
       "<table border=\"1\" class=\"dataframe\">\n",
       "  <thead>\n",
       "    <tr style=\"text-align: right;\">\n",
       "      <th>marital</th>\n",
       "      <th>divorced</th>\n",
       "      <th>married</th>\n",
       "      <th>single</th>\n",
       "      <th>unknown</th>\n",
       "      <th>All</th>\n",
       "    </tr>\n",
       "    <tr>\n",
       "      <th>CreditCard</th>\n",
       "      <th></th>\n",
       "      <th></th>\n",
       "      <th></th>\n",
       "      <th></th>\n",
       "      <th></th>\n",
       "    </tr>\n",
       "  </thead>\n",
       "  <tbody>\n",
       "    <tr>\n",
       "      <th>no</th>\n",
       "      <td>4136</td>\n",
       "      <td>22396</td>\n",
       "      <td>9948</td>\n",
       "      <td>68</td>\n",
       "      <td>36548</td>\n",
       "    </tr>\n",
       "    <tr>\n",
       "      <th>yes</th>\n",
       "      <td>476</td>\n",
       "      <td>2532</td>\n",
       "      <td>1620</td>\n",
       "      <td>12</td>\n",
       "      <td>4640</td>\n",
       "    </tr>\n",
       "    <tr>\n",
       "      <th>All</th>\n",
       "      <td>4612</td>\n",
       "      <td>24928</td>\n",
       "      <td>11568</td>\n",
       "      <td>80</td>\n",
       "      <td>41188</td>\n",
       "    </tr>\n",
       "  </tbody>\n",
       "</table>\n",
       "</div>"
      ],
      "text/plain": [
       "marital     divorced  married  single  unknown    All\n",
       "CreditCard                                           \n",
       "no              4136    22396    9948       68  36548\n",
       "yes              476     2532    1620       12   4640\n",
       "All             4612    24928   11568       80  41188"
      ]
     },
     "execution_count": 81,
     "metadata": {},
     "output_type": "execute_result"
    }
   ],
   "source": [
    "crosstab = pd.crosstab(df['CreditCard'], df['marital'], margins=True)\n",
    "crosstab"
   ]
  },
  {
   "cell_type": "code",
   "execution_count": 87,
   "id": "c052af14",
   "metadata": {},
   "outputs": [
    {
     "name": "stdout",
     "output_type": "stream",
     "text": [
      "The probability that the customer is Married, given that he has a Credit Card is 0.546\n"
     ]
    }
   ],
   "source": [
    "# P(M|C) = P(C n M) / P(C) \n",
    "\n",
    "pCnM = crosstab.loc['yes', 'married']\n",
    "pC = len(df[df['CreditCard'] == 'yes'])\n",
    "pM_C = round(pCnM / pC, 3)\n",
    "\n",
    "print(\"The probability that the customer is Married, given that he has a Credit Card is\", pM_C)"
   ]
  },
  {
   "cell_type": "markdown",
   "id": "c5ce5c54",
   "metadata": {},
   "source": [
    "#### Que #8: If a customer has a Blue Collar Job, find the probability that he has a Housing?"
   ]
  },
  {
   "cell_type": "code",
   "execution_count": 90,
   "id": "f143b7b6",
   "metadata": {},
   "outputs": [
    {
     "data": {
      "text/html": [
       "<div>\n",
       "<style scoped>\n",
       "    .dataframe tbody tr th:only-of-type {\n",
       "        vertical-align: middle;\n",
       "    }\n",
       "\n",
       "    .dataframe tbody tr th {\n",
       "        vertical-align: top;\n",
       "    }\n",
       "\n",
       "    .dataframe thead th {\n",
       "        text-align: right;\n",
       "    }\n",
       "</style>\n",
       "<table border=\"1\" class=\"dataframe\">\n",
       "  <thead>\n",
       "    <tr style=\"text-align: right;\">\n",
       "      <th>job</th>\n",
       "      <th>admin.</th>\n",
       "      <th>blue-collar</th>\n",
       "      <th>entrepreneur</th>\n",
       "      <th>housemaid</th>\n",
       "      <th>management</th>\n",
       "      <th>retired</th>\n",
       "      <th>self-employed</th>\n",
       "      <th>services</th>\n",
       "      <th>student</th>\n",
       "      <th>technician</th>\n",
       "      <th>unemployed</th>\n",
       "      <th>unknown</th>\n",
       "      <th>All</th>\n",
       "    </tr>\n",
       "    <tr>\n",
       "      <th>housing</th>\n",
       "      <th></th>\n",
       "      <th></th>\n",
       "      <th></th>\n",
       "      <th></th>\n",
       "      <th></th>\n",
       "      <th></th>\n",
       "      <th></th>\n",
       "      <th></th>\n",
       "      <th></th>\n",
       "      <th></th>\n",
       "      <th></th>\n",
       "      <th></th>\n",
       "      <th></th>\n",
       "    </tr>\n",
       "  </thead>\n",
       "  <tbody>\n",
       "    <tr>\n",
       "      <th>no</th>\n",
       "      <td>4636</td>\n",
       "      <td>4304</td>\n",
       "      <td>641</td>\n",
       "      <td>491</td>\n",
       "      <td>1363</td>\n",
       "      <td>784</td>\n",
       "      <td>641</td>\n",
       "      <td>1818</td>\n",
       "      <td>381</td>\n",
       "      <td>2980</td>\n",
       "      <td>430</td>\n",
       "      <td>153</td>\n",
       "      <td>18622</td>\n",
       "    </tr>\n",
       "    <tr>\n",
       "      <th>yes</th>\n",
       "      <td>5786</td>\n",
       "      <td>4950</td>\n",
       "      <td>815</td>\n",
       "      <td>569</td>\n",
       "      <td>1561</td>\n",
       "      <td>936</td>\n",
       "      <td>780</td>\n",
       "      <td>2151</td>\n",
       "      <td>494</td>\n",
       "      <td>3763</td>\n",
       "      <td>584</td>\n",
       "      <td>177</td>\n",
       "      <td>22566</td>\n",
       "    </tr>\n",
       "    <tr>\n",
       "      <th>All</th>\n",
       "      <td>10422</td>\n",
       "      <td>9254</td>\n",
       "      <td>1456</td>\n",
       "      <td>1060</td>\n",
       "      <td>2924</td>\n",
       "      <td>1720</td>\n",
       "      <td>1421</td>\n",
       "      <td>3969</td>\n",
       "      <td>875</td>\n",
       "      <td>6743</td>\n",
       "      <td>1014</td>\n",
       "      <td>330</td>\n",
       "      <td>41188</td>\n",
       "    </tr>\n",
       "  </tbody>\n",
       "</table>\n",
       "</div>"
      ],
      "text/plain": [
       "job      admin.  blue-collar  entrepreneur  housemaid  management  retired   \n",
       "housing                                                                      \n",
       "no         4636         4304           641        491        1363      784  \\\n",
       "yes        5786         4950           815        569        1561      936   \n",
       "All       10422         9254          1456       1060        2924     1720   \n",
       "\n",
       "job      self-employed  services  student  technician  unemployed  unknown   \n",
       "housing                                                                      \n",
       "no                 641      1818      381        2980         430      153  \\\n",
       "yes                780      2151      494        3763         584      177   \n",
       "All               1421      3969      875        6743        1014      330   \n",
       "\n",
       "job        All  \n",
       "housing         \n",
       "no       18622  \n",
       "yes      22566  \n",
       "All      41188  "
      ]
     },
     "execution_count": 90,
     "metadata": {},
     "output_type": "execute_result"
    }
   ],
   "source": [
    "crosstab = pd.crosstab(df['housing'], df['job'], margins=True)\n",
    "crosstab"
   ]
  },
  {
   "cell_type": "code",
   "execution_count": 93,
   "id": "26b9d962",
   "metadata": {},
   "outputs": [
    {
     "name": "stdout",
     "output_type": "stream",
     "text": [
      "The probability that the customer has a Housing, given that he has a Blue Collor job is 0.535\n"
     ]
    }
   ],
   "source": [
    "# P(H|B) = P(H n B) / P(B)\n",
    "\n",
    "pHnB = crosstab.loc['yes', 'blue-collar']\n",
    "pB = len(df[df['job'] == 'blue-collar'])\n",
    "pH_B = round(pHnB / pB, 3)\n",
    "\n",
    "print(\"The probability that the customer has a Housing, given that he has a Blue Collor job is\", pH_B)"
   ]
  }
 ],
 "metadata": {
  "kernelspec": {
   "display_name": "Python 3 (ipykernel)",
   "language": "python",
   "name": "python3"
  },
  "language_info": {
   "codemirror_mode": {
    "name": "ipython",
    "version": 3
   },
   "file_extension": ".py",
   "mimetype": "text/x-python",
   "name": "python",
   "nbconvert_exporter": "python",
   "pygments_lexer": "ipython3",
   "version": "3.11.3"
  }
 },
 "nbformat": 4,
 "nbformat_minor": 5
}
