{
 "cells": [
  {
   "cell_type": "markdown",
   "id": "661450e3",
   "metadata": {},
   "source": [
    "# <center>PROBABILITY</center>"
   ]
  },
  {
   "cell_type": "markdown",
   "id": "14f13bd3",
   "metadata": {},
   "source": [
    " "
   ]
  },
  {
   "cell_type": "markdown",
   "id": "7910225d",
   "metadata": {},
   "source": [
    "## Introduction to Probability"
   ]
  },
  {
   "cell_type": "markdown",
   "id": "c161555b",
   "metadata": {},
   "source": [
    "<b>What is Probability</b>\n",
    "- Probability is simply how likely an event will occur.\n",
    "- Whenever we're unsure about the outcome of an event, we can talk about the probabilities of how likely certain outcomes will occur."
   ]
  },
  {
   "cell_type": "code",
   "execution_count": null,
   "id": "41020faa",
   "metadata": {},
   "outputs": [],
   "source": []
  }
 ],
 "metadata": {
  "kernelspec": {
   "display_name": "Python 3 (ipykernel)",
   "language": "python",
   "name": "python3"
  },
  "language_info": {
   "codemirror_mode": {
    "name": "ipython",
    "version": 3
   },
   "file_extension": ".py",
   "mimetype": "text/x-python",
   "name": "python",
   "nbconvert_exporter": "python",
   "pygments_lexer": "ipython3",
   "version": "3.10.6"
  }
 },
 "nbformat": 4,
 "nbformat_minor": 5
}
