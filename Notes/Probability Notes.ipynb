{
 "cells": [
  {
   "cell_type": "markdown",
   "id": "661450e3",
   "metadata": {},
   "source": [
    "# <center>PROBABILITY</center>"
   ]
  },
  {
   "cell_type": "markdown",
   "id": "14f13bd3",
   "metadata": {},
   "source": [
    " "
   ]
  },
  {
   "cell_type": "markdown",
   "id": "7910225d",
   "metadata": {},
   "source": [
    "## Introduction to Probability"
   ]
  },
  {
   "cell_type": "markdown",
   "id": "c161555b",
   "metadata": {},
   "source": [
    "<b>What is Probability</b>\n",
    "- Probability is simply how likely an event will occur.\n",
    "- Whenever we're unsure about the outcome of an event, we can talk about the probabilities of how likely certain outcomes will occur.\n",
    "- An important skill for data scientists using data affected by chance.\n",
    "  \n",
    "P(A) = $\\frac{n}{N}$ = $\\frac{outcomes\\ in\\ A}{outcomes\\ in\\ Sample\\ Space}$\n",
    "\n",
    "<br>\n",
    "\n",
    "<b>Why Probability?</b>  \n",
    "- With randomness existing everywhere, the use of probability theory allows for the analysis of chance events.\n",
    "- Our Aim is to determine the likelihood of an event occuring, often using a numerical scale of between 0 and 1. With the number '0' indicating impossibility & '1' indicating certainty.\n",
    "- Example: Tossing a coin has 50% probability for heads.\n",
    "\n",
    "<br>\n",
    "\n",
    "<b>Examples:</b>\n",
    "\n",
    "- There are 6 balls, 3 are red, 2 are yellow and 1 is blue.  \n",
    "    What is the probability of picking a yellow ball?  \n",
    "    <u>solution</u>  \n",
    "    P(Yellow) = $\\frac{no.\\ of\\ Yellow\\ balls}{total\\ no.\\ of\\ balls}$\n",
    "                = $\\frac{2}{6}$ = 0.33\n",
    "                \n",
    "<br>\n",
    " \n",
    "- There is a container full of coloured bottles, red, blue, green and orange. \n",
    "    Some of the bottles are picked out and displaced. A person did this 1000 times and got the following results:\n",
    "    - No. of blue bottles picked: 300\n",
    "    - No. of red bottles: 200\n",
    "    - No. of green bottles: 450\n",
    "    - No. of orange bottles: 50  \n",
    "    What is the probability that he will pick green bottle?  \n",
    "    <u>solution</u>  \n",
    "    P(Green) = $\\frac{frequency\\ of\\ Green\\ bottles}{total\\ frequency\\ of\\ bottles}$\n",
    "                = $\\frac{450}{1000}$ = 0.45  \n",
    "                               \n",
    "<br>\n",
    "\n",
    "<b>Probability Theory: Case Study</b>  \n",
    "- Probability theory is a tool employed by researchers, business, investment analysts and countless others for risk management and scenario analysis.\n",
    "- Small Business:\n",
    "    - If a business enterprise expects to receive between 500k and 700k in revenue each month, the linear graph will begin with 500k at the low end and end with 700k at the high end. For a typical probability distribution, the graph will resemble a bell curve, where the least likely outcomes fall nearer the extreme ends of the range and the most likely, nearer to the midpoint of the extremes.  \n",
    "    \n",
    "<br>\n",
    "\n",
    "<b>Usage of Probability in Data Science:</b>\n",
    "- Confidence intervals in statistics to know the probability of our data lying within the given intervals.\n",
    "- Probability distribution:\n",
    "    - Every type of data cannot be analyzed in the same way. Some data follow a Normal distribution, Poission distribution, Bernoulli distribution, Binomial distribution, while others follow Exponential distribution.\n",
    "- Bayes Theorem - Naive Bayes Algorithm\n",
    "- Conditional Probability\n",
    "- Central Limit Theorem\n",
    "- Markov Chains and Hidden Markov Chains."
   ]
  },
  {
   "cell_type": "markdown",
   "id": "dcb7f187",
   "metadata": {},
   "source": [
    " "
   ]
  },
  {
   "cell_type": "markdown",
   "id": "2b8597a8",
   "metadata": {},
   "source": [
    "##  Key Terminologies"
   ]
  },
  {
   "cell_type": "markdown",
   "id": "db5138f9",
   "metadata": {},
   "source": [
    "- Random Experiment:\n",
    "    - In ML, we mostly deal with uncertain events. Random Experiment is an experiment in which outcome is not known with certainty.\n",
    "\n",
    "- Sample Space: \n",
    "    - Its a Universal set that consists of all possible outcomes of an experiment.\n",
    "    - Example: Outcomes of College Application. S = {admitted, not admitted}\n",
    "\n",
    "- Event:\n",
    "    - Subset of sample space. Probability is usually calculated with respect to an event.\n",
    "    - Example: Chances of getting head on a coin toss.\n",
    "\n",
    "<br>\n",
    "\n",
    "<b>Random Variable:</b>\n",
    "- A variable whsoe value is unknown or a function that assigns values to each of an experiment's outcomes.\n",
    "- It can be classified as discrete or continuous depending on the values it can take.\n",
    "- If a random variable X can assume only countable infinite set of values, it is called discrete random variable.\n",
    "- If a random variable X can take a value from an infinite set of values, it is called continuous random variable.\n",
    "- Example: Outcome of a coin toss. If the random variable X is the number of heads we get from tossing two coins, the X could be 0, 1 or 2.\n",
    "\n",
    "<br>\n",
    "\n",
    "<b>Examples of Discrete Random Variable:</b>\n",
    "- Credit Rating (finite category)\n",
    "- No. of orders received.\n",
    "- Customer churn: the percentage of customers that stopped using your company's product. (Yes or No)\n",
    "- Fraud Detection (Yes or No)\n",
    "\n",
    "<br>\n",
    "\n",
    "<b>Examples of Continuous Random Variable:</b>\n",
    "- Market share of a company (any value from an infinite set between 0 and 100).\n",
    "- Percentage of attrition(reduction) of employees.\n",
    "- Time to failure of an Engineering System.\n",
    "- Time taken to complete the order."
   ]
  },
  {
   "cell_type": "markdown",
   "id": "8c14880d",
   "metadata": {},
   "source": [
    " "
   ]
  },
  {
   "cell_type": "markdown",
   "id": "ffbe3771",
   "metadata": {},
   "source": [
    "## Rules of Probability"
   ]
  },
  {
   "cell_type": "markdown",
   "id": "c846334a",
   "metadata": {},
   "source": [
    "<b>Rule 1:</b>   \n",
    "The probability of an impossible event is 0. The probability of a certain event is 1.  \n",
    "Therefore, for any event A, the range of possible probabilities for all possible events is equal to 1.\n",
    "\n",
    "<br>\n",
    "\n",
    "<b>Rule 2:</b>  \n",
    "For S, the sample space of all possiblilities, P(S) = 1.  \n",
    "i.e. the sum of all the probabilities for all possible events is equal to 1.\n",
    "\n",
    "<br>\n",
    "\n",
    "<b>Rule 3:</b>  \n",
    "For any event A, P(A') = 1 - P(A).  \n",
    "Similarly, P(A) = 1 - P(A').\n",
    "\n",
    "<br>\n",
    "\n",
    "<b>Rule 4 (Addition Rule OR):</b>  \n",
    "This is the probability that either one or both events occur.\n",
    "- If two events, say A and B, are mutually exclusive,  \n",
    "    i.e. A and B have no outcomes in common then,  \n",
    "    P(A ∪ B) = P(A) + P(B)\n",
    "    \n",
    "- If two events are NOT mutually exclusive then,   \n",
    "    P(A ∪ B) = P(A) + P(B) - P(A ∩ B)\n",
    "\n",
    "<br>\n",
    "\n",
    "<b>Rule 5 (Multiplication Rule AND):</b>  \n",
    "This is the probability that both events occur.\n",
    "- P(A ∩ B) = P(A)*P(B|A) or P(B)*P(A|B)\n",
    "    .\n",
    "- If A and B are independent, neither event influences or affects the probability that the other event occurs  \n",
    "    P(A ∩ B) = P(A)*P(B).  \n",
    "    This particular rule extends to more than two independent events.  \n",
    "    For example, P(A ∩ B ∩ C) = P(A)*P(B)*P(C)\n",
    "    \n",
    "<br>\n",
    "\n",
    "<b>Rule 6 (Conditional Probability):</b>  \n",
    "- P(A|B) = $\\frac{A\\ and\\ B}{P(B)}$ or P(B|A) = $\\frac{A\\ and\\ B}{P(A)}$  \n",
    "    Note: this straight line symbol, |, does not mean divide!  \n",
    "    This symbols means \"conditional\" or \"given\".  \n",
    "    For instance P(A|B) means the probability that event A occurs given event B has occurred."
   ]
  },
  {
   "cell_type": "markdown",
   "id": "36947836",
   "metadata": {},
   "source": [
    " "
   ]
  },
  {
   "cell_type": "markdown",
   "id": "e5e14dd9",
   "metadata": {},
   "source": [
    "## Marginal, Joint & Conditional Probability"
   ]
  },
  {
   "cell_type": "markdown",
   "id": "c3df5c4e",
   "metadata": {},
   "source": [
    "<b>Case Study: Netflix:</b>  \n",
    "Let us look at the frequency table below.  \n",
    "The table shows the frequency of male and female population that watch the mentioned tv shows.  \n",
    "<img src='assets/Netflix - Case Study.png' width=400>  \n",
    "\n",
    "<br>\n",
    "\n",
    "Since the highest data in the table is 500 (Total sample population), dividing all the data by 500.  \n",
    "Now we have the values between 0 to 1. The table thus obtained is called Probability Distribution Table.  \n",
    "<img src='assets/Netflix - Probability Distribution Table.png' width=400>  \n",
    "\n",
    "<br>\n",
    "\n",
    "Here, the ones that are highlighted in green are called <u>Marginal Probability</u> and the ones that are highlighted in blue are called <u>Joint Probability</u>.  \n",
    "For example, the value 0.16 is representing the chances of occuring two events - probability of Male liking Money Heist. Thus called the Joint Probability.  \n",
    "The value 0.46 is a Marginal Probability because, it is the probability of selecting a Male. It doesnot care about their show preference. It describes the probability of occurance of a single event.\n",
    "\n",
    "<img src='assets/Netflix - Joint & Marginal Probability.png' width=400>\n",
    "\n",
    "<br>\n",
    "\n",
    "<b>Joint Probability vs Marginal Probability vs Conditional Probability:</b>\n",
    "- Joint Probability:\n",
    "    - It is a Statistical Measure that calculates the likelihood of two events occuring together and at the same point of time.\n",
    "\n",
    "- Marginal Probability:\n",
    "    - It is the probability of an event irrespective of the outcome of another variable.\n",
    "\n",
    "- Conditional Probability:\n",
    "    - It is the probability of occurence of an event given that another event has already occured.\n",
    "\n",
    "<br>\n",
    "\n",
    "<u>Question 1:</u>  \n",
    "What is the probability of a Netflix Subscriber being Male?\n",
    "- P(Male) = 0.46\n",
    "\n",
    "\n",
    "<u>Question 2:</u>  \n",
    "What is the probability of a Netflix Subscriber preferring Money Heist?\n",
    "- P(Money Heist) = 0.4\n",
    "\n",
    "<u>Question 3:</u>  \n",
    "What is the probability of a Netflix Subscriber being a Male and preferring Breaking Bad?\n",
    "- P(Male ∩ Breaking Bad) = 0.2\n",
    "\n",
    "<u>Question 4:</u>\n",
    "What is the probability of a Netflix Subscriber being a Female and preferring Breaking Bad?\n",
    "- P(Female ∪ Breaking Bad) = P(Female) + P(Breaking Bad) - P(Male ∩ Breaking Bad)  \n",
    "   = 0.54 + 0.25 - 0.05 = 0.74\n",
    "   \n",
    "<u>Question 5:</u>\n",
    "Samrat is a new Netflix Subscriber, what is the chance that he would like Breaking Bad?\n",
    "- We know, Samrat is a Male and we need to know the probablity of Samrat preferring Breaking bad.  \n",
    "    Here, we use Conditional Probability.  \n",
    "    P(Breaking Bad | Male) = $\\frac{P(Breaking\\ Bad\\ ∩\\ Male)}{P(Male)}$  = $\\frac{0.2}{0.46}$ = 0.43\n",
    "\n",
    "<u>Question 6:</u>  \n",
    "Hinata is a new Netflix Subscriber, what is the chance that she would like Money Heist?\n",
    "- Using Conditional Probability,  \n",
    "    P(Money Heist | Female) = $\\frac{P(Money\\ Heist\\ ∩\\ Female)}{P(Female)}$  = $\\frac{0.24}{0.54}$ = 0.44"
   ]
  },
  {
   "cell_type": "markdown",
   "id": "993db1bd",
   "metadata": {},
   "source": [
    " "
   ]
  },
  {
   "cell_type": "markdown",
   "id": "17a3e02e",
   "metadata": {},
   "source": [
    "## Disjoint & Non Disjoint Events"
   ]
  },
  {
   "cell_type": "markdown",
   "id": "f22f1f74",
   "metadata": {},
   "source": [
    " <b>Disjoint Events:</b>\n",
    "- Events that cannot happen at the same time.\n",
    "- Also know as <u>Mutually Exclusive</u> events.\n",
    "- Examples:\n",
    "    - The outcome of a single coin toss cannot be a head and a tail.\n",
    "    - A student cannot both fail and pass a subject.\n",
    "    - A single card drawn from a deck cannot be an Ace and a Queen at the same time.\n",
    "<img src='assets/Disjoint Set.png' width=400>\n",
    "\n",
    "<br>\n",
    "\n",
    "<u>Union of Disjoint Events:</u>\n",
    "- For disjoint events A and B, the probability of A or B happening is:\n",
    "    - P(A ∪ B) = P(A) + P(B)\n",
    "- Example: Probability of drawing a Jack or a Queen from a deck of card is:\n",
    "    = P(Jack) + P(Queen) = 4/52 + 4/52 = 0.154\n",
    "    \n",
    "<b>Non-Disjoint Events:</b>\n",
    "- Events can happen at the same time.\n",
    "- Also known as <u>Mutually Inclusive</u> events.\n",
    "- Examples:\n",
    "    - A student can get an A in Statistics and A in History at the same time.\n",
    "    - A single card drawn from a deck can be both a Jack and a Diamond.\n",
    "<img src='assets/Non-Disjoint Set.png' width=400>\n",
    "\n",
    "\n",
    "<br>\n",
    "\n",
    "<u>Union of Non-Disjoint Events:</u>\n",
    "- For non-disjoint events A and B, the probability of A or B happening is:\n",
    "    - P(A ∪ B) = P(A) + P(B) - P(A ∩ B)\n",
    "- Example: Probability of drawing a Heart of Ace from a deck of card is:\n",
    "    = P(Ace) + P(Heart) - P(Ace ∩ Heart) = 4/52 + 13/52 - 1/52 = 0.538"
   ]
  },
  {
   "cell_type": "markdown",
   "id": "ac8a36cc",
   "metadata": {},
   "source": [
    " "
   ]
  },
  {
   "cell_type": "markdown",
   "id": "c47e3d50",
   "metadata": {},
   "source": [
    "## Dependent and Independent Events"
   ]
  },
  {
   "cell_type": "markdown",
   "id": "d4ab72b2",
   "metadata": {},
   "source": [
    "In probability and statistics, events are often classified as dependent or independent. As a basic rule of thumb, the existence or absence of an event can provide clues about other events. \n",
    "\n",
    "\n",
    "<b>Dependent Events:</b>\n",
    "- For events to be considered as dependent, one must have an influence over how probable another is.\n",
    "- A dependent event can only occur if another event occurs first.\n",
    "- Provides Information about other events.\n",
    "- Examples: \n",
    "    - You are willing to go on a vaccation at the end of next month, but that depends on having enough money to cover the trip. You may be counting on a bonus.\n",
    "    - One must buy a lottery ticket to have a chance at winning. Your odds of winning are increased if you buy more than one ticket. \n",
    "    \n",
    "<b>Independent Events:</b>\n",
    "- An event is considered as independent, when the event is not connected to another event.\n",
    "- Its probability of happening, or conversely, of not happening is not affected by another event.\n",
    "- Provides no information about other events.\n",
    "- Examples:\n",
    "    - The color of your hair has absolutely no effect on where you work. The two events of 'having black hair' and 'working in Google' are completely independent of one another.\n",
    "    - Getting a 6 on a dice and getting Progmotion at work are completely independent."
   ]
  },
  {
   "cell_type": "markdown",
   "id": "112bed0d",
   "metadata": {},
   "source": [
    " "
   ]
  },
  {
   "cell_type": "markdown",
   "id": "57e42151",
   "metadata": {},
   "source": [
    "## Multiplicative Rule of Probability"
   ]
  },
  {
   "cell_type": "markdown",
   "id": "e5125737",
   "metadata": {},
   "source": [
    "- The multiplication rule is a way to find the probability of two events happening at the same time.\n",
    "- There are two forms of this Rule:\n",
    "    - Specific Multiplication Rule.\n",
    "    - General Multiplication Rule.\n",
    "    \n",
    "<b>Specific Multiplication Rule:</b>\n",
    "- This is used to calculate the joint probability of independent events.\n",
    "- To use this rule, multiply the probabilities for independent events.\n",
    "- With independent events, the occurrence of event A does not affect the likelihood of event B.\n",
    "- P(A ∩ B) = P(A)*P(B)\n",
    "\n",
    "Examples:\n",
    "- Calculate the probability of obtaining 'heads' during two consecutive coin flips.  \n",
    "    - P(Head ∩ Head) = P(Head) * P(Head) = 0.5*0.5 = 0.25\n",
    "    \n",
    "- You have 10 pants, out of them 3 are Tan. You have got 16 shirts, out of them 5 are Red. Selection of Pants doesnot affect the likelihood of drawing the Red shirt.\n",
    "    - P(Tan Pants ∩ Red Shirt) = P(Tan Pants) * P(Red Shirt) = 0.3*0.25 = 0.075\n",
    "    \n",
    "<br>\n",
    "\n",
    "<b>General Multiplication Rule:</b>\n",
    "- Use the general Multiplication rule to calculate joint probabilities for either independent or dependent events.\n",
    "- Helps us to factor in how the occurrence of Event A affects the likelihood of Event B.\n",
    "- P(A ∩ B) = P(A) * P(B|A)\n",
    "- The joint probability of A and B occurring equals to the probability of A occurring multiplied by the conditional probability of B occurring given that A has occurred.\n",
    "- For independent/disjoint event, P(B|A) = P(B) so,  \n",
    "    P(A ∩ B) = P(A) * P(B)\n",
    "\n",
    "Examples:\n",
    "- Draw cards from a deck of cards without replacement, and find the probability of drawing hearts on two consecutive draws. \n",
    "    - P(H1 ∩ H2) = P(H1) * P(H2) = 0.25*0.235 = 0.059"
   ]
  },
  {
   "cell_type": "markdown",
   "id": "8aad9d7d",
   "metadata": {},
   "source": [
    " "
   ]
  },
  {
   "cell_type": "markdown",
   "id": "1872fd2f",
   "metadata": {},
   "source": [
    "## Bayes Theorem"
   ]
  },
  {
   "cell_type": "markdown",
   "id": "0d113600",
   "metadata": {},
   "source": [
    "- Bayes' Theorem, named after 18th-century British mathematician, Thomas Bayes, is a mathematical formula for determining conditional probability.\n",
    "- Conditional probability is the likelihood of an outcome occuring, when some other probabilities are known in advance.  \n",
    "P(A|B) = $\\frac{P(B|A)\\ *\\ P(A)}{P(B)}$\n",
    "\n",
    "\n",
    "Example:\n",
    "- Given that first card was an ace, what is the probability of drawing a second ace from a deck?\n",
    "- Given that test was positive, what is the probability of having a disease?\n",
    "- Given that a person likes fiction, what is the probability that he would like Game of Thrones?\n",
    "    \n",
    "<br>\n",
    "\n",
    "<b>Usage of Bayes Theorem:</b>\n",
    "- Bayes Theorem shows the relation between a conditional probabiliy and its reverse form.\n",
    "- If Probability is P(A|B), we can use Bayes Theorem to find the reverse probabilities i.e. P(B|A)."
   ]
  },
  {
   "cell_type": "markdown",
   "id": "f7ee53ae",
   "metadata": {},
   "source": [
    " "
   ]
  },
  {
   "cell_type": "markdown",
   "id": "f14c269f",
   "metadata": {},
   "source": [
    "## Applications of Bayes Theorem in Data Science"
   ]
  },
  {
   "cell_type": "markdown",
   "id": "8015d83f",
   "metadata": {},
   "source": [
    "<b>App I: Testing Hypothesis:</b>\n",
    "- Hypothesis approximates a target function which needs to be tested on data.  \n",
    "  For example: mean weight of newborn baby is 3.5 kg.\n",
    "- Bayes Theorem allows to test whether the hypothesis holds true for given data as P(h|D),  \n",
    "  which means, probability of \"hypothesis\" being true for given \"Data\".\n",
    "  \n",
    "<br>\n",
    "\n",
    "<b>App II: Classification:</b>\n",
    "- When the possible values are categorical, Bayes Theorem can be applied for classification problems.  \n",
    "  For example: whether a customer defaults on credit card payment or not based on the account balance.\n",
    "- Naive Bayes Classifier is one such implementation of Bayes Theorem.\n",
    " \n",
    " <br>\n",
    " \n",
    " <b>App III: Model Optimization:</b>\n",
    " - Optimizing machine learning models involves finding an input that minimizes or maximizes an objective function.\n",
    " - Bayes Theorem applies probability to find out these values.\n",
    " - Bayesian Optimization is a technique used to improve the performance of a machine learning model."
   ]
  },
  {
   "cell_type": "markdown",
   "id": "1e664c24",
   "metadata": {},
   "source": [
    " "
   ]
  },
  {
   "cell_type": "markdown",
   "id": "c146b7d9",
   "metadata": {},
   "source": [
    "## Random Variables"
   ]
  },
  {
   "cell_type": "markdown",
   "id": "9bd0b4c5",
   "metadata": {},
   "source": [
    "- A function that maps every outcome in the sample space to a real number is called a random variable.\n",
    "- Example:   \n",
    "    We performed an experiment tossing a coin. In our sample space, we will have a head and a tail i.e. {Head, Tail}.  \n",
    "    A random variable function R, maps every event in the sample space to a real number (probability of each event occuring).  \n",
    "    For the event Head, R(Head) = 0.5  \n",
    "    For the event Tail, R(Tail) = 0.5\n",
    "- There are two types of random variables:\n",
    "    - Discrete Random Variable.\n",
    "    - Continuous Random Variable.\n",
    "    \n",
    "<br>\n",
    "\n",
    "<b>Discrete Random Variables:</b>\n",
    "- Described using probability mass function (PMF) & cumulative distribution function (CDF).\n",
    "- PMF is the probability that a random variable X takes a specific value k.\n",
    "    - Number of fraudulent transactions at an e-commerce platform is 10.\n",
    "- CDF is the probability that a random variable X takes a value less than or equal to k.\n",
    "    - Number of fraudulent transactions at an e-commerce platform is less than or equal to 10.\n",
    "    \n",
    "<br>\n",
    "\n",
    "<b>Continuous Random Variables:</b>\n",
    "- Described using probability density function (PDF) & cumulative distribution function (CDF).\n",
    "- PDF is the probability that a continuous random variable X takes a value in a small neighbourhood (range).\n",
    "    - Price of house is between 100k to 125k.\n",
    "- CDF is the probability that a continuous random variable X takes a value less than or equal to k.\n",
    "    - Price of house is less than or equal to 125k."
   ]
  },
  {
   "cell_type": "markdown",
   "id": "9deb2bea",
   "metadata": {},
   "source": [
    " "
   ]
  },
  {
   "cell_type": "markdown",
   "id": "8586be26",
   "metadata": {},
   "source": [
    "## Probability Distribution Functions"
   ]
  },
  {
   "cell_type": "markdown",
   "id": "133dbdf7",
   "metadata": {},
   "source": [
    "#### a) Probability Distribution Functions for Discrete Random Variables"
   ]
  },
  {
   "cell_type": "markdown",
   "id": "a58e55ab",
   "metadata": {},
   "source": [
    "<b>Binomial Distribution:</b>\n",
    "- This is a discrete probability distribution.\n",
    "- Used in senarios where the random variable has only two outcomes.\n",
    "- Objective is to find probability of getting x successes out of n-trials.\n",
    "- If the probability of success is p, then the probability of failure is (1-p).\n",
    "- PMF and CDF are used.\n",
    "- Example: Loan Repayment Default.\n",
    "\n",
    "<br>\n",
    "\n",
    "<b>Geometric Distribution:</b>\n",
    "- Occurs when we count the number of independent Bernoulli Trials until the first success.\n",
    "- X = no. of trials Y until first success.\n",
    "- X will be distributed with Geometric Distribution."
   ]
  },
  {
   "cell_type": "markdown",
   "id": "df2ad661",
   "metadata": {},
   "source": [
    "#### b) Probability Distribution Functions for Continuous Random Variables"
   ]
  },
  {
   "cell_type": "markdown",
   "id": "11b7deb1",
   "metadata": {},
   "source": [
    "<b>Uniform Distribution:</b>\n",
    "- It is a probability distribution that has constant value in each interval.\n",
    "- Also known as Rectangular Distribution.\n",
    "\n",
    "<br>\n",
    "\n",
    "<b>Exponential Distribution:</b>\n",
    "- This provides a way to find the probabilities in time for a process. (time complexity)\n",
    "- Traditionally used for modelling time-to-failure of electronic components.\n",
    "- This represents a process in which events occur continuously and independently at a constant average rate.\n",
    "\n",
    "<br>\n",
    "\n",
    "<b>Normal Distribution:</b>\n",
    "- One of the most important probability distribution in the field of statistics.\n",
    "- Fits several natural phenomenons.\n",
    "- Most ML algorithms assumes that the data follows Normal Distribution.\n",
    "- Example: Measurement error, Heights, IQ scores, Blood pressure - follows Normal Distribution.\n",
    "\n",
    "Graph of Normal Distribution depends on Mean and Standard Deviation.  \n",
    "Mean - Determines the location of the center of the graph.  \n",
    "Standard Deviation - Determines the height of graph. (determines how far apart the data are from each other)"
   ]
  }
 ],
 "metadata": {
  "kernelspec": {
   "display_name": "Python 3 (ipykernel)",
   "language": "python",
   "name": "python3"
  },
  "language_info": {
   "codemirror_mode": {
    "name": "ipython",
    "version": 3
   },
   "file_extension": ".py",
   "mimetype": "text/x-python",
   "name": "python",
   "nbconvert_exporter": "python",
   "pygments_lexer": "ipython3",
   "version": "3.11.3"
  }
 },
 "nbformat": 4,
 "nbformat_minor": 5
}
