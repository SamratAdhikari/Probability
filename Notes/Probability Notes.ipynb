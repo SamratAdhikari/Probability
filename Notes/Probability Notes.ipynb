{
 "cells": [
  {
   "cell_type": "markdown",
   "id": "661450e3",
   "metadata": {},
   "source": [
    "# <center>PROBABILITY</center>"
   ]
  },
  {
   "cell_type": "markdown",
   "id": "14f13bd3",
   "metadata": {},
   "source": [
    " "
   ]
  },
  {
   "cell_type": "markdown",
   "id": "7910225d",
   "metadata": {},
   "source": [
    "## Introduction to Probability"
   ]
  },
  {
   "cell_type": "markdown",
   "id": "c161555b",
   "metadata": {},
   "source": [
    "<b>What is Probability</b>\n",
    "- Probability is simply how likely an event will occur.\n",
    "- Whenever we're unsure about the outcome of an event, we can talk about the probabilities of how likely certain outcomes will occur.\n",
    "- An important skill for data scientists using data affected by chance.\n",
    "  \n",
    "P(A) = $\\frac{n}{N}$ = $\\frac{outcomes\\ in\\ A}{outcomes\\ in\\ Sample\\ Space}$\n",
    "\n",
    "<br>\n",
    "\n",
    "<b>Why Probability?</b>  \n",
    "- With randomness existing everywhere, the use of probability theory allows for the analysis of chance events.\n",
    "- Our Aim is to determine the likelihood of an event occuring, often using a numerical scale of between 0 and 1. With the number '0' indicating impossibility & '1' indicating certainty.\n",
    "- Example: Tossing a coin has 50% probability for heads.\n",
    "\n",
    "<br>\n",
    "\n",
    "<b>Examples:</b>\n",
    "\n",
    "- There are 6 balls, 3 are red, 2 are yellow and 1 is blue.  \n",
    "    What is the probability of picking a yellow ball?  \n",
    "    <u>solution</u>  \n",
    "    P(Yellow) = $\\frac{no.\\ of\\ Yellow\\ balls}{total\\ no.\\ of\\ balls}$\n",
    "                = $\\frac{2}{6}$ = 0.33\n",
    "                \n",
    "<br>\n",
    " \n",
    "- There is a container full of coloured bottles, red, blue, green and orange. \n",
    "    Some of the bottles are picked out and displaced. A person did this 1000 times and got the following results:\n",
    "    - No. of blue bottles picked: 300\n",
    "    - No. of red bottles: 200\n",
    "    - No. of green bottles: 450\n",
    "    - No. of orange bottles: 50  \n",
    "    What is the probability that he will pick green bottle?  \n",
    "    <u>solution</u>  \n",
    "    P(Green) = $\\frac{frequency\\ of\\ Green\\ bottles}{total\\ frequency\\ of\\ bottles}$\n",
    "                = $\\frac{450}{1000}$ = 0.45  \n",
    "                               \n",
    "<br>\n",
    "\n",
    "<b>Probability Theory: Case Study</b>  \n",
    "- Probability theory is a tool employed by researchers, business, investment analysts and countless others for risk management and scenario analysis.\n",
    "- Small Business:\n",
    "    - If a business enterprise expects to receive between 500k and 700k in revenue each month, the linear graph will begin with 500k at the low end and end with 700k at the high end. For a typical probability distribution, the graph will resemble a bell curve, where the least likely outcomes fall nearer the extreme ends of the range and the most likely, nearer to the midpoint of the extremes.  \n",
    "    \n",
    "<br>\n",
    "\n",
    "<b>Usage of Probability in Data Science:</b>\n",
    "- Confidence intervals in statistics to know the probability of our data lying within the given intervals.\n",
    "- Probability distribution:\n",
    "    - Every type of data cannot be analyzed in the same way. Some data follow a Normal distribution, Poission distribution, Bernoulli distribution, Binomial distribution, while others follow Exponential distribution.\n",
    "- Bayes Theorem - Naive Bayes Algorithm\n",
    "- Conditional Probability\n",
    "- Central Limit Theorem\n",
    "- Markov Chains and Hidden Markov Chains."
   ]
  },
  {
   "cell_type": "markdown",
   "id": "dcb7f187",
   "metadata": {},
   "source": [
    " "
   ]
  },
  {
   "cell_type": "markdown",
   "id": "2b8597a8",
   "metadata": {},
   "source": [
    "##  Key Terminologies"
   ]
  },
  {
   "cell_type": "markdown",
   "id": "db5138f9",
   "metadata": {},
   "source": [
    "- Random Experiment:\n",
    "    - In ML, we mostly deal with uncertain events. Random Experiment is an experiment in which outcome is not known with certainty.\n",
    "\n",
    "- Sample Space: \n",
    "    - Its a Universal set that consists of all possible outcomes of an experiment.\n",
    "    - Example: Outcomes of College Application. S = {admitted, not admitted}\n",
    "\n",
    "- Event:\n",
    "    - Subset of sample space. Probability is usually calculated with respect to an event.\n",
    "    - Example: Chances of getting head on a coin toss.\n",
    "\n",
    "<br>\n",
    "\n",
    "<b>Random Variable:</b>\n",
    "- A function that maps every outcome in the sample space to a real number.\n",
    "- It can be classified as discrete or continuous depending on the values it can take.\n",
    "- If a random variable X can assume only countable infinite set of values, it is called discrete random variable.\n",
    "- If a random variable X can take a value from an infinite set of values, it is called continuous random variable.\n",
    "\n",
    "<br>\n",
    "\n",
    "<b>Examples of Discrete Random Variable:</b>\n",
    "- Credit Rating (finite category)\n",
    "- No. of orders received.\n",
    "- Customer churn: the percentage of customers that stopped using your company's product. (Yes or No)\n",
    "- Fraud Detection (Yes or No)\n",
    "\n",
    "<br>\n",
    "\n",
    "<b>Examples of Continuous Random Variable:</b>\n",
    "- Market share of a company (any value from an infinite set between 0 and 100).\n",
    "- Percentage of attrition(reduction) of employees.\n",
    "- Time to failure of an Engineering System.\n",
    "- Time taken to complete the order."
   ]
  },
  {
   "cell_type": "markdown",
   "id": "8c14880d",
   "metadata": {},
   "source": [
    " "
   ]
  },
  {
   "cell_type": "markdown",
   "id": "ffbe3771",
   "metadata": {},
   "source": [
    "## Rules of Probability"
   ]
  },
  {
   "cell_type": "markdown",
   "id": "c846334a",
   "metadata": {},
   "source": [
    "<b>Rule 1:</b>   \n",
    "The probability of an impossible event is 0. The probability of a certain event is 1.  \n",
    "Therefore, for any event A, the range of possible probabilities for all possible events is equal to 1.\n",
    "\n",
    "<br>\n",
    "\n",
    "<b>Rule 2:</b>  \n",
    "For S, the sample space of all possiblilities, P(S) = 1.  \n",
    "i.e. the sum of all the probabilities for all possible events is equal to 1.\n",
    "\n",
    "<br>\n",
    "\n",
    "<b>Rule 3:</b>  \n",
    "For any event A, P(A') = 1 - P(A).  \n",
    "Similarly, P(A) = 1 - P(A').\n",
    "\n",
    "<br>\n",
    "\n",
    "<b>Rule 4 (Addition Rule OR):</b>  \n",
    "This is the probability that either one or both events occur.\n",
    "- If two events, say A and B, are mutually exclusive,  \n",
    "    i.e. A and B have no outcomes in common then,  \n",
    "    P(A ∪ B) = P(A) + P(B)\n",
    "    \n",
    "- If two events are NOT mutually exclusive then,   \n",
    "    P(A ∪ B) = P(A) + P(B) - P(A ∩ B)\n",
    "\n",
    "<br>\n",
    "\n",
    "<b>Rule 5 (Multiplication Rule AND):</b>  \n",
    "This is the probability that both events occur.\n",
    "- P(A ∩ B) = P(A)*P(B|A) or P(B)*P(A|B)\n",
    "    .\n",
    "- If A and B are independent, neither event influences or affects the probability that the other event occurs  \n",
    "    P(A ∩ B) = P(A)*P(B).  \n",
    "    This particular rule extends to more than two independent events.  \n",
    "    For example, P(A ∩ B ∩ C) = P(A)*P(B)*P(C)\n",
    "    \n",
    "<br>\n",
    "\n",
    "<b>Rule 6 (Conditional Probability):</b>  \n",
    "- P(A|B) = $\\frac{A\\ and\\ B}{P(B)}$ or P(B|A) = $\\frac{A\\ and\\ B}{P(A)}$  \n",
    "    Note: this straight line symbol, |, does not mean divide!  \n",
    "    This symbols means \"conditional\" or \"given\".  \n",
    "    For instance P(A|B) means the probability that event A occurs given event B has occurred."
   ]
  },
  {
   "cell_type": "markdown",
   "id": "36947836",
   "metadata": {},
   "source": [
    " "
   ]
  },
  {
   "cell_type": "markdown",
   "id": "e5e14dd9",
   "metadata": {},
   "source": [
    "## Marginal, Joint & Conditional Probability"
   ]
  },
  {
   "cell_type": "markdown",
   "id": "c3df5c4e",
   "metadata": {},
   "source": [
    "<b>Case Study: Netflix:</b>  \n",
    "Let us look at the frequency table below.  \n",
    "The table shows the frequency of male and female population that watch the mentioned tv shows.  \n",
    "<img src='assets/Netflix - Case Study.png' width=400>  \n",
    "\n",
    "<br>\n",
    "\n",
    "Since the highest data in the table is 500 (Total sample population), dividing all the data by 500.  \n",
    "Now we have the values between 0 to 1. The table thus obtained is called Probability Distribution Table.  \n",
    "<img src='assets/Netflix - Probability Distribution Table.png' width=400>  \n",
    "\n",
    "<br>\n",
    "\n",
    "Here, the ones that are highlighted in green are called <u>Marginal Probability</u> and the ones that are highlighted in blue are called <u>Joint Probability</u>.  \n",
    "For example, the value 0.16 is representing the chances of occuring two events - probability of Male liking Money Heist. Thus called the Joint Probability.  \n",
    "The value 0.46 is a Marginal Probability because, it is the probability of selecting a Male. It doesnot care about their show preference. It describes the probability of occurance of a single event.\n",
    "\n",
    "<img src='assets/Netflix - Joint & Marginal Probability.png' width=400>\n",
    "\n",
    "<br>\n",
    "\n",
    "<b>Joint Probability vs Marginal Probability vs Conditional Probability:</b>\n",
    "- Joint Probability:\n",
    "    - It is a Statistical Measure that calculates the likelihood of two events occuring together and at the same point of time.\n",
    "\n",
    "- Marginal Probability:\n",
    "    - It is the probability of an event irrespective of the outcome of another variable.\n",
    "\n",
    "- Conditional Probability:\n",
    "    - It is the probability of occurence of an event given that another event has already occured.\n",
    "\n",
    "<br>\n",
    "\n",
    "<u>Question 1:</u>  \n",
    "What is the probability of a Netflix Subscriber being Male?\n",
    "- P(Male) = 0.46\n",
    "\n",
    "\n",
    "<u>Question 2:</u>  \n",
    "What is the probability of a Netflix Subscriber preferring Money Heist?\n",
    "- P(Money Heist) = 0.4\n",
    "\n",
    "<u>Question 3:</u>  \n",
    "What is the probability of a Netflix Subscriber being a Male and preferring Breaking Bad?\n",
    "- P(Male ∩ Breaking Bad) = 0.2\n",
    "\n",
    "<u>Question 4:</u>\n",
    "What is the probability of a Netflix Subscriber being a Female and preferring Breaking Bad?\n",
    "- P(Female ∪ Breaking Bad) = P(Female) + P(Breaking Bad) - P(Male ∩ Breaking Bad)  \n",
    "   = 0.54 + 0.25 - 0.05 = 0.74\n",
    "   \n",
    "<u>Question 5:</u>\n",
    "Samrat is a new Netflix Subscriber, what is the chance that he would like Breaking Bad?\n",
    "- We know, Samrat is a Male and we need to know the probablity of Samrat preferring Breaking bad.  \n",
    "    Here, we use Conditional Probability.  \n",
    "    P(Breaking Bad | Male) = $\\frac{P(Breaking\\ Bad\\ ∩\\ Male)}{P(Male)}$  = $\\frac{0.2}{0.46}$ = 0.43\n",
    "\n",
    "<u>Question 6:</u>  \n",
    "Hinata is a new Netflix Subscriber, what is the chance that she would like Money Heist?\n",
    "- Using Conditional Probability,  \n",
    "    P(Money Heist | Female) = $\\frac{P(Money\\ Heist\\ ∩\\ Female)}{P(Female)}$  = $\\frac{0.24}{0.54}$ = 0.44"
   ]
  }
 ],
 "metadata": {
  "kernelspec": {
   "display_name": "Python 3 (ipykernel)",
   "language": "python",
   "name": "python3"
  },
  "language_info": {
   "codemirror_mode": {
    "name": "ipython",
    "version": 3
   },
   "file_extension": ".py",
   "mimetype": "text/x-python",
   "name": "python",
   "nbconvert_exporter": "python",
   "pygments_lexer": "ipython3",
   "version": "3.10.6"
  }
 },
 "nbformat": 4,
 "nbformat_minor": 5
}
