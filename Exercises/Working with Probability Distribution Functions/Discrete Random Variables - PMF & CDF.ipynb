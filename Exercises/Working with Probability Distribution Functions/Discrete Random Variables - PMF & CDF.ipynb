{
 "cells": [
  {
   "cell_type": "markdown",
   "id": "13f8d006",
   "metadata": {},
   "source": [
    "### Example Problem Set"
   ]
  },
  {
   "cell_type": "markdown",
   "id": "0144b246",
   "metadata": {},
   "source": [
    "We have a company thats called as fashion trends online. Its an e-commerce company and it sells women apparel. It is observed that 10% of their customers is going to return the items for many reasons (it could be due to size, color & material mismatch). Now on a specific day, 20 customers have purchased from this website. Now as a data scientist, we want to solve the problems:\n",
    "\n",
    "- a) What is the probability that exactly 5 customers will return the items?\n",
    "- b) What is the probability that the maximum of 5 customers will return the items?\n",
    "- c) What is the probability that more than 5 customers will return the items?\n",
    "- d) Find the average number of customers who are likely to return the items & the variance & the standard deviation of the      number of returns."
   ]
  },
  {
   "cell_type": "code",
   "execution_count": 5,
   "id": "f4b7cd09",
   "metadata": {},
   "outputs": [],
   "source": [
    "# Modules\n",
    "from scipy.stats import binom\n",
    "import seaborn as sn"
   ]
  },
  {
   "cell_type": "code",
   "execution_count": 7,
   "id": "6ceb81be",
   "metadata": {},
   "outputs": [
    {
     "data": {
      "text/plain": [
       "0.031921361119954424"
      ]
     },
     "execution_count": 7,
     "metadata": {},
     "output_type": "execute_result"
    }
   ],
   "source": [
    "#a) solution:\n",
    "binom.pmf(5, 20, 0.1) # k, no_of_sample, probability"
   ]
  },
  {
   "cell_type": "markdown",
   "id": "4e2c454f",
   "metadata": {},
   "source": [
    "There is a 3.192% chance that exactly 5 customers out of 20 will return the items."
   ]
  },
  {
   "cell_type": "code",
   "execution_count": 9,
   "id": "131fb16f",
   "metadata": {},
   "outputs": [
    {
     "data": {
      "text/plain": [
       "0.988746865835491"
      ]
     },
     "execution_count": 9,
     "metadata": {},
     "output_type": "execute_result"
    }
   ],
   "source": [
    "#b) solution:\n",
    "binom.cdf(5, 20, 0.1) #k, no_of_sample, probability - 5 or less then 5"
   ]
  },
  {
   "cell_type": "markdown",
   "id": "acc9fbe7",
   "metadata": {},
   "source": [
    "There is a 98% chance that maximum 5 customers out of 20 will return the items."
   ]
  },
  {
   "cell_type": "code",
   "execution_count": 10,
   "id": "acb3f7fe",
   "metadata": {},
   "outputs": [
    {
     "data": {
      "text/plain": [
       "0.011253134164509015"
      ]
     },
     "execution_count": 10,
     "metadata": {},
     "output_type": "execute_result"
    }
   ],
   "source": [
    "#c) solution:\n",
    "1 - binom.cdf(5, 20, 0.1)"
   ]
  },
  {
   "cell_type": "markdown",
   "id": "f92be8bf",
   "metadata": {},
   "source": [
    "There is a 1.125% chance that more than 5 customers out of 20 will return the items."
   ]
  },
  {
   "cell_type": "code",
   "execution_count": 15,
   "id": "5a316613",
   "metadata": {},
   "outputs": [
    {
     "name": "stdout",
     "output_type": "stream",
     "text": [
      "Average: 2.0\n",
      "Variance: 1.8\n",
      "Standard Deviation: 1.342\n"
     ]
    }
   ],
   "source": [
    "#d) solution:\n",
    "binom.stats(20, 0.1)\n",
    "\n",
    "avg, var = binom.stats(20, 0.1)\n",
    "print(\"Average:\", avg)\n",
    "print(\"Variance:\", var)\n",
    "print(\"Standard Deviation:\", round(var**0.5, 3))"
   ]
  }
 ],
 "metadata": {
  "kernelspec": {
   "display_name": "Python 3 (ipykernel)",
   "language": "python",
   "name": "python3"
  },
  "language_info": {
   "codemirror_mode": {
    "name": "ipython",
    "version": 3
   },
   "file_extension": ".py",
   "mimetype": "text/x-python",
   "name": "python",
   "nbconvert_exporter": "python",
   "pygments_lexer": "ipython3",
   "version": "3.11.3"
  }
 },
 "nbformat": 4,
 "nbformat_minor": 5
}
