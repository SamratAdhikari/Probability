{
 "cells": [
  {
   "cell_type": "markdown",
   "id": "91042146",
   "metadata": {},
   "source": [
    "# <center>Normal Distribution & CDF</center>"
   ]
  },
  {
   "cell_type": "markdown",
   "id": "a296e32f",
   "metadata": {},
   "source": [
    "### Modules"
   ]
  },
  {
   "cell_type": "code",
   "execution_count": 19,
   "id": "eea8529f",
   "metadata": {},
   "outputs": [],
   "source": [
    "import numpy as np\n",
    "import pandas as pd\n",
    "import matplotlib.pyplot as plt\n",
    "import seaborn as sns\n",
    "import scipy.stats as stats \n",
    "\n",
    "import warnings\n",
    "warnings.filterwarnings('ignore')"
   ]
  },
  {
   "cell_type": "markdown",
   "id": "dd5214e5",
   "metadata": {},
   "source": [
    "### Initializing the dataframe"
   ]
  },
  {
   "cell_type": "code",
   "execution_count": 2,
   "id": "9eaa21bd",
   "metadata": {},
   "outputs": [
    {
     "data": {
      "text/html": [
       "<div>\n",
       "<style scoped>\n",
       "    .dataframe tbody tr th:only-of-type {\n",
       "        vertical-align: middle;\n",
       "    }\n",
       "\n",
       "    .dataframe tbody tr th {\n",
       "        vertical-align: top;\n",
       "    }\n",
       "\n",
       "    .dataframe thead th {\n",
       "        text-align: right;\n",
       "    }\n",
       "</style>\n",
       "<table border=\"1\" class=\"dataframe\">\n",
       "  <thead>\n",
       "    <tr style=\"text-align: right;\">\n",
       "      <th></th>\n",
       "      <th>stud.id</th>\n",
       "      <th>name</th>\n",
       "      <th>gender</th>\n",
       "      <th>age</th>\n",
       "      <th>height</th>\n",
       "      <th>weight</th>\n",
       "      <th>religion</th>\n",
       "      <th>nc.score</th>\n",
       "      <th>semester</th>\n",
       "      <th>major</th>\n",
       "      <th>minor</th>\n",
       "      <th>score1</th>\n",
       "      <th>score2</th>\n",
       "      <th>online.tutorial</th>\n",
       "      <th>graduated</th>\n",
       "      <th>salary</th>\n",
       "    </tr>\n",
       "  </thead>\n",
       "  <tbody>\n",
       "    <tr>\n",
       "      <th>0</th>\n",
       "      <td>833917</td>\n",
       "      <td>Gonzales, Christina</td>\n",
       "      <td>Female</td>\n",
       "      <td>19</td>\n",
       "      <td>160</td>\n",
       "      <td>64.8</td>\n",
       "      <td>Muslim</td>\n",
       "      <td>1.91</td>\n",
       "      <td>1st</td>\n",
       "      <td>Political Science</td>\n",
       "      <td>Social Sciences</td>\n",
       "      <td>NaN</td>\n",
       "      <td>NaN</td>\n",
       "      <td>0</td>\n",
       "      <td>0</td>\n",
       "      <td>NaN</td>\n",
       "    </tr>\n",
       "    <tr>\n",
       "      <th>1</th>\n",
       "      <td>898539</td>\n",
       "      <td>Lozano, T'Hani</td>\n",
       "      <td>Female</td>\n",
       "      <td>19</td>\n",
       "      <td>172</td>\n",
       "      <td>73.0</td>\n",
       "      <td>Other</td>\n",
       "      <td>1.56</td>\n",
       "      <td>2nd</td>\n",
       "      <td>Social Sciences</td>\n",
       "      <td>Mathematics and Statistics</td>\n",
       "      <td>NaN</td>\n",
       "      <td>NaN</td>\n",
       "      <td>0</td>\n",
       "      <td>0</td>\n",
       "      <td>NaN</td>\n",
       "    </tr>\n",
       "    <tr>\n",
       "      <th>2</th>\n",
       "      <td>379678</td>\n",
       "      <td>Williams, Hanh</td>\n",
       "      <td>Female</td>\n",
       "      <td>22</td>\n",
       "      <td>168</td>\n",
       "      <td>70.6</td>\n",
       "      <td>Protestant</td>\n",
       "      <td>1.24</td>\n",
       "      <td>3rd</td>\n",
       "      <td>Social Sciences</td>\n",
       "      <td>Mathematics and Statistics</td>\n",
       "      <td>45.0</td>\n",
       "      <td>46.0</td>\n",
       "      <td>0</td>\n",
       "      <td>0</td>\n",
       "      <td>NaN</td>\n",
       "    </tr>\n",
       "    <tr>\n",
       "      <th>3</th>\n",
       "      <td>807564</td>\n",
       "      <td>Nem, Denzel</td>\n",
       "      <td>Male</td>\n",
       "      <td>19</td>\n",
       "      <td>183</td>\n",
       "      <td>79.7</td>\n",
       "      <td>Other</td>\n",
       "      <td>1.37</td>\n",
       "      <td>2nd</td>\n",
       "      <td>Environmental Sciences</td>\n",
       "      <td>Mathematics and Statistics</td>\n",
       "      <td>NaN</td>\n",
       "      <td>NaN</td>\n",
       "      <td>0</td>\n",
       "      <td>0</td>\n",
       "      <td>NaN</td>\n",
       "    </tr>\n",
       "    <tr>\n",
       "      <th>4</th>\n",
       "      <td>383291</td>\n",
       "      <td>Powell, Heather</td>\n",
       "      <td>Female</td>\n",
       "      <td>21</td>\n",
       "      <td>175</td>\n",
       "      <td>71.4</td>\n",
       "      <td>Catholic</td>\n",
       "      <td>1.46</td>\n",
       "      <td>1st</td>\n",
       "      <td>Environmental Sciences</td>\n",
       "      <td>Mathematics and Statistics</td>\n",
       "      <td>NaN</td>\n",
       "      <td>NaN</td>\n",
       "      <td>0</td>\n",
       "      <td>0</td>\n",
       "      <td>NaN</td>\n",
       "    </tr>\n",
       "  </tbody>\n",
       "</table>\n",
       "</div>"
      ],
      "text/plain": [
       "   stud.id                 name  gender  age  height  weight    religion   \n",
       "0   833917  Gonzales, Christina  Female   19     160    64.8      Muslim  \\\n",
       "1   898539       Lozano, T'Hani  Female   19     172    73.0       Other   \n",
       "2   379678       Williams, Hanh  Female   22     168    70.6  Protestant   \n",
       "3   807564          Nem, Denzel    Male   19     183    79.7       Other   \n",
       "4   383291      Powell, Heather  Female   21     175    71.4    Catholic   \n",
       "\n",
       "   nc.score semester                   major                       minor   \n",
       "0      1.91      1st       Political Science             Social Sciences  \\\n",
       "1      1.56      2nd         Social Sciences  Mathematics and Statistics   \n",
       "2      1.24      3rd         Social Sciences  Mathematics and Statistics   \n",
       "3      1.37      2nd  Environmental Sciences  Mathematics and Statistics   \n",
       "4      1.46      1st  Environmental Sciences  Mathematics and Statistics   \n",
       "\n",
       "   score1  score2  online.tutorial  graduated  salary  \n",
       "0     NaN     NaN                0          0     NaN  \n",
       "1     NaN     NaN                0          0     NaN  \n",
       "2    45.0    46.0                0          0     NaN  \n",
       "3     NaN     NaN                0          0     NaN  \n",
       "4     NaN     NaN                0          0     NaN  "
      ]
     },
     "execution_count": 2,
     "metadata": {},
     "output_type": "execute_result"
    }
   ],
   "source": [
    "df = pd.read_csv('students.csv')\n",
    "df.head()"
   ]
  },
  {
   "cell_type": "code",
   "execution_count": 4,
   "id": "a478b5ed",
   "metadata": {},
   "outputs": [
    {
     "data": {
      "text/plain": [
       "stud.id               0\n",
       "name                  0\n",
       "gender                0\n",
       "age                   0\n",
       "height                0\n",
       "weight                0\n",
       "religion              0\n",
       "nc.score              0\n",
       "semester              0\n",
       "major                 0\n",
       "minor                 0\n",
       "score1             3347\n",
       "score2             3347\n",
       "online.tutorial       0\n",
       "graduated             0\n",
       "salary             6486\n",
       "dtype: int64"
      ]
     },
     "execution_count": 4,
     "metadata": {},
     "output_type": "execute_result"
    }
   ],
   "source": [
    "df.isnull().sum()"
   ]
  },
  {
   "cell_type": "code",
   "execution_count": 5,
   "id": "bf0171dc",
   "metadata": {},
   "outputs": [
    {
     "data": {
      "text/html": [
       "<div>\n",
       "<style scoped>\n",
       "    .dataframe tbody tr th:only-of-type {\n",
       "        vertical-align: middle;\n",
       "    }\n",
       "\n",
       "    .dataframe tbody tr th {\n",
       "        vertical-align: top;\n",
       "    }\n",
       "\n",
       "    .dataframe thead th {\n",
       "        text-align: right;\n",
       "    }\n",
       "</style>\n",
       "<table border=\"1\" class=\"dataframe\">\n",
       "  <thead>\n",
       "    <tr style=\"text-align: right;\">\n",
       "      <th></th>\n",
       "      <th>stud.id</th>\n",
       "      <th>age</th>\n",
       "      <th>height</th>\n",
       "      <th>weight</th>\n",
       "      <th>nc.score</th>\n",
       "      <th>score1</th>\n",
       "      <th>score2</th>\n",
       "      <th>online.tutorial</th>\n",
       "      <th>graduated</th>\n",
       "      <th>salary</th>\n",
       "    </tr>\n",
       "  </thead>\n",
       "  <tbody>\n",
       "    <tr>\n",
       "      <th>count</th>\n",
       "      <td>8239.000000</td>\n",
       "      <td>8239.000000</td>\n",
       "      <td>8239.000000</td>\n",
       "      <td>8239.000000</td>\n",
       "      <td>8239.000000</td>\n",
       "      <td>4892.000000</td>\n",
       "      <td>4892.000000</td>\n",
       "      <td>8239.000000</td>\n",
       "      <td>8239.000000</td>\n",
       "      <td>1753.000000</td>\n",
       "    </tr>\n",
       "    <tr>\n",
       "      <th>mean</th>\n",
       "      <td>548910.484525</td>\n",
       "      <td>22.541571</td>\n",
       "      <td>171.380750</td>\n",
       "      <td>72.998131</td>\n",
       "      <td>2.166481</td>\n",
       "      <td>68.164963</td>\n",
       "      <td>69.494685</td>\n",
       "      <td>0.386212</td>\n",
       "      <td>0.212769</td>\n",
       "      <td>42522.112364</td>\n",
       "    </tr>\n",
       "    <tr>\n",
       "      <th>std</th>\n",
       "      <td>253849.389811</td>\n",
       "      <td>6.065111</td>\n",
       "      <td>11.077529</td>\n",
       "      <td>8.635162</td>\n",
       "      <td>0.811548</td>\n",
       "      <td>14.051762</td>\n",
       "      <td>14.395251</td>\n",
       "      <td>0.486910</td>\n",
       "      <td>0.409290</td>\n",
       "      <td>10333.139906</td>\n",
       "    </tr>\n",
       "    <tr>\n",
       "      <th>min</th>\n",
       "      <td>110250.000000</td>\n",
       "      <td>18.000000</td>\n",
       "      <td>135.000000</td>\n",
       "      <td>51.400000</td>\n",
       "      <td>1.000000</td>\n",
       "      <td>30.000000</td>\n",
       "      <td>31.000000</td>\n",
       "      <td>0.000000</td>\n",
       "      <td>0.000000</td>\n",
       "      <td>11444.141650</td>\n",
       "    </tr>\n",
       "    <tr>\n",
       "      <th>25%</th>\n",
       "      <td>331222.500000</td>\n",
       "      <td>20.000000</td>\n",
       "      <td>163.000000</td>\n",
       "      <td>66.500000</td>\n",
       "      <td>1.460000</td>\n",
       "      <td>58.000000</td>\n",
       "      <td>59.000000</td>\n",
       "      <td>0.000000</td>\n",
       "      <td>0.000000</td>\n",
       "      <td>35206.541600</td>\n",
       "    </tr>\n",
       "    <tr>\n",
       "      <th>50%</th>\n",
       "      <td>545132.000000</td>\n",
       "      <td>21.000000</td>\n",
       "      <td>171.000000</td>\n",
       "      <td>71.800000</td>\n",
       "      <td>2.040000</td>\n",
       "      <td>70.000000</td>\n",
       "      <td>71.000000</td>\n",
       "      <td>0.000000</td>\n",
       "      <td>0.000000</td>\n",
       "      <td>41672.009750</td>\n",
       "    </tr>\n",
       "    <tr>\n",
       "      <th>75%</th>\n",
       "      <td>770807.500000</td>\n",
       "      <td>23.000000</td>\n",
       "      <td>180.000000</td>\n",
       "      <td>78.500000</td>\n",
       "      <td>2.780000</td>\n",
       "      <td>78.000000</td>\n",
       "      <td>80.000000</td>\n",
       "      <td>1.000000</td>\n",
       "      <td>0.000000</td>\n",
       "      <td>49372.540910</td>\n",
       "    </tr>\n",
       "    <tr>\n",
       "      <th>max</th>\n",
       "      <td>989901.000000</td>\n",
       "      <td>64.000000</td>\n",
       "      <td>206.000000</td>\n",
       "      <td>116.000000</td>\n",
       "      <td>4.000000</td>\n",
       "      <td>97.000000</td>\n",
       "      <td>98.000000</td>\n",
       "      <td>1.000000</td>\n",
       "      <td>1.000000</td>\n",
       "      <td>75596.793440</td>\n",
       "    </tr>\n",
       "  </tbody>\n",
       "</table>\n",
       "</div>"
      ],
      "text/plain": [
       "             stud.id          age       height       weight     nc.score   \n",
       "count    8239.000000  8239.000000  8239.000000  8239.000000  8239.000000  \\\n",
       "mean   548910.484525    22.541571   171.380750    72.998131     2.166481   \n",
       "std    253849.389811     6.065111    11.077529     8.635162     0.811548   \n",
       "min    110250.000000    18.000000   135.000000    51.400000     1.000000   \n",
       "25%    331222.500000    20.000000   163.000000    66.500000     1.460000   \n",
       "50%    545132.000000    21.000000   171.000000    71.800000     2.040000   \n",
       "75%    770807.500000    23.000000   180.000000    78.500000     2.780000   \n",
       "max    989901.000000    64.000000   206.000000   116.000000     4.000000   \n",
       "\n",
       "            score1       score2  online.tutorial    graduated        salary  \n",
       "count  4892.000000  4892.000000      8239.000000  8239.000000   1753.000000  \n",
       "mean     68.164963    69.494685         0.386212     0.212769  42522.112364  \n",
       "std      14.051762    14.395251         0.486910     0.409290  10333.139906  \n",
       "min      30.000000    31.000000         0.000000     0.000000  11444.141650  \n",
       "25%      58.000000    59.000000         0.000000     0.000000  35206.541600  \n",
       "50%      70.000000    71.000000         0.000000     0.000000  41672.009750  \n",
       "75%      78.000000    80.000000         1.000000     0.000000  49372.540910  \n",
       "max      97.000000    98.000000         1.000000     1.000000  75596.793440  "
      ]
     },
     "execution_count": 5,
     "metadata": {},
     "output_type": "execute_result"
    }
   ],
   "source": [
    "df.describe()"
   ]
  },
  {
   "cell_type": "code",
   "execution_count": 6,
   "id": "be160b92",
   "metadata": {},
   "outputs": [
    {
     "data": {
      "text/html": [
       "<div>\n",
       "<style scoped>\n",
       "    .dataframe tbody tr th:only-of-type {\n",
       "        vertical-align: middle;\n",
       "    }\n",
       "\n",
       "    .dataframe tbody tr th {\n",
       "        vertical-align: top;\n",
       "    }\n",
       "\n",
       "    .dataframe thead th {\n",
       "        text-align: right;\n",
       "    }\n",
       "</style>\n",
       "<table border=\"1\" class=\"dataframe\">\n",
       "  <thead>\n",
       "    <tr style=\"text-align: right;\">\n",
       "      <th></th>\n",
       "      <th>name</th>\n",
       "      <th>gender</th>\n",
       "      <th>religion</th>\n",
       "      <th>semester</th>\n",
       "      <th>major</th>\n",
       "      <th>minor</th>\n",
       "    </tr>\n",
       "  </thead>\n",
       "  <tbody>\n",
       "    <tr>\n",
       "      <th>count</th>\n",
       "      <td>8239</td>\n",
       "      <td>8239</td>\n",
       "      <td>8239</td>\n",
       "      <td>8239</td>\n",
       "      <td>8239</td>\n",
       "      <td>8239</td>\n",
       "    </tr>\n",
       "    <tr>\n",
       "      <th>unique</th>\n",
       "      <td>8174</td>\n",
       "      <td>2</td>\n",
       "      <td>5</td>\n",
       "      <td>7</td>\n",
       "      <td>6</td>\n",
       "      <td>6</td>\n",
       "    </tr>\n",
       "    <tr>\n",
       "      <th>top</th>\n",
       "      <td>Nguyen, Brandon</td>\n",
       "      <td>Male</td>\n",
       "      <td>Catholic</td>\n",
       "      <td>1st</td>\n",
       "      <td>Environmental Sciences</td>\n",
       "      <td>Mathematics and Statistics</td>\n",
       "    </tr>\n",
       "    <tr>\n",
       "      <th>freq</th>\n",
       "      <td>3</td>\n",
       "      <td>4129</td>\n",
       "      <td>2797</td>\n",
       "      <td>1709</td>\n",
       "      <td>1626</td>\n",
       "      <td>1446</td>\n",
       "    </tr>\n",
       "  </tbody>\n",
       "</table>\n",
       "</div>"
      ],
      "text/plain": [
       "                   name gender  religion semester                   major   \n",
       "count              8239   8239      8239     8239                    8239  \\\n",
       "unique             8174      2         5        7                       6   \n",
       "top     Nguyen, Brandon   Male  Catholic      1st  Environmental Sciences   \n",
       "freq                  3   4129      2797     1709                    1626   \n",
       "\n",
       "                             minor  \n",
       "count                         8239  \n",
       "unique                           6  \n",
       "top     Mathematics and Statistics  \n",
       "freq                          1446  "
      ]
     },
     "execution_count": 6,
     "metadata": {},
     "output_type": "execute_result"
    }
   ],
   "source": [
    "df.describe(include='O')"
   ]
  },
  {
   "cell_type": "code",
   "execution_count": 7,
   "id": "afb6ba8f",
   "metadata": {},
   "outputs": [
    {
     "data": {
      "text/plain": [
       "(8239, 16)"
      ]
     },
     "execution_count": 7,
     "metadata": {},
     "output_type": "execute_result"
    }
   ],
   "source": [
    "df.shape"
   ]
  },
  {
   "cell_type": "markdown",
   "id": "5c5c77a1",
   "metadata": {},
   "source": [
    "#### Distribution of the Height attribute"
   ]
  },
  {
   "cell_type": "markdown",
   "id": "652dcd3a",
   "metadata": {},
   "source": [
    "##### Histogram"
   ]
  },
  {
   "cell_type": "code",
   "execution_count": 23,
   "id": "25754824",
   "metadata": {},
   "outputs": [
    {
     "data": {
      "image/png": "[encoded data removed]",
      "text/plain": [
       "<Figure size 400x400 with 1 Axes>"
      ]
     },
     "metadata": {},
     "output_type": "display_data"
    }
   ],
   "source": [
    "sns.displot(data=df['height'], bins=10, kde=True, height=4)\n",
    "plt.show()"
   ]
  },
  {
   "cell_type": "markdown",
   "id": "f78bad61",
   "metadata": {},
   "source": [
    "##### Skewness"
   ]
  },
  {
   "cell_type": "code",
   "execution_count": 17,
   "id": "6346ffa9",
   "metadata": {
    "scrolled": true
   },
   "outputs": [
    {
     "data": {
      "text/plain": [
       "-0.009243587901262076"
      ]
     },
     "execution_count": 17,
     "metadata": {},
     "output_type": "execute_result"
    }
   ],
   "source": [
    "df['height'].skew()"
   ]
  },
  {
   "cell_type": "markdown",
   "id": "38639ec7",
   "metadata": {},
   "source": [
    "Clearly, the Height attribute follows normal distribution."
   ]
  },
  {
   "cell_type": "markdown",
   "id": "84e23650",
   "metadata": {},
   "source": [
    "##### Mean & Standard Deviation"
   ]
  },
  {
   "cell_type": "code",
   "execution_count": 18,
   "id": "2a3b05ec",
   "metadata": {},
   "outputs": [
    {
     "name": "stdout",
     "output_type": "stream",
     "text": [
      "Mean: 171.38075009103048\n",
      "Standard Deviation: 11.077529134763823\n"
     ]
    }
   ],
   "source": [
    "mean = df['height'].mean()\n",
    "std = df['height'].std()\n",
    "\n",
    "print('Mean:', mean)\n",
    "print('Standard Deviation:', std)"
   ]
  },
  {
   "cell_type": "markdown",
   "id": "a949e1e7",
   "metadata": {},
   "source": [
    "#### Que #: What is the probability that Height of a student is greater than 175cm & less than 190cm?"
   ]
  },
  {
   "cell_type": "code",
   "execution_count": 20,
   "id": "feb0ced4",
   "metadata": {},
   "outputs": [
    {
     "name": "stdout",
     "output_type": "stream",
     "text": [
      "The probability that Height of a student is greater than 175cm & less than 190cm is 0.325540184113436\n"
     ]
    }
   ],
   "source": [
    "# z-scores\n",
    "z1 = (175 - mean) / std\n",
    "z2 = (190 - mean) / std\n",
    "\n",
    "P = stats.norm.cdf(z2) - stats.norm.cdf(z1)\n",
    "\n",
    "print('The probability that Height of a student is greater than 175cm & less than 190cm is', P)"
   ]
  }
 ],
 "metadata": {
  "kernelspec": {
   "display_name": "Python 3 (ipykernel)",
   "language": "python",
   "name": "python3"
  },
  "language_info": {
   "codemirror_mode": {
    "name": "ipython",
    "version": 3
   },
   "file_extension": ".py",
   "mimetype": "text/x-python",
   "name": "python",
   "nbconvert_exporter": "python",
   "pygments_lexer": "ipython3",
   "version": "3.11.3"
  }
 },
 "nbformat": 4,
 "nbformat_minor": 5
}
